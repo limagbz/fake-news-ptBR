{
 "cells": [
  {
   "cell_type": "code",
   "execution_count": 1,
   "metadata": {},
   "outputs": [],
   "source": [
    "%%capture\n",
    "\n",
    "%cd ..\n",
    "%load_ext autoreload\n",
    "%autoreload 2"
   ]
  },
  {
   "cell_type": "code",
   "execution_count": 15,
   "metadata": {},
   "outputs": [],
   "source": [
    "from pathlib import Path\n",
    "import pandas as pd\n",
    "import numpy as np\n",
    "import json"
   ]
  },
  {
   "cell_type": "markdown",
   "metadata": {},
   "source": [
    "# Data Acquisition and Preparation"
   ]
  },
  {
   "cell_type": "code",
   "execution_count": 16,
   "metadata": {},
   "outputs": [],
   "source": [
    "RAW_DATA_FOLDER = Path('data/raw/')\n",
    "INTERMEDIATE_DATA_FOLDER = Path('data/interim/')\n",
    "REFERENCE_FOLDER = Path('references/')"
   ]
  },
  {
   "cell_type": "markdown",
   "metadata": {},
   "source": [
    "## Functions"
   ]
  },
  {
   "cell_type": "code",
   "execution_count": 17,
   "metadata": {},
   "outputs": [],
   "source": [
    "def create_text_dataframe(folder):\n",
    "    df_dict = {}\n",
    "    for filepath in folder.glob(\"*.txt\"):\n",
    "        with open(filepath, 'r', encoding='utf-8') as f:\n",
    "            df_dict[filepath.stem] = f.read() \n",
    "    return pd.DataFrame.from_dict(df_dict, orient='index', columns=['text'])\n",
    "\n",
    "def create_metadata_datasets(folder, metadata_columns, metadata_dtypes):\n",
    "    df_dict = {}\n",
    "    df_dict = {k:[] for k in metadata_columns}\n",
    "    df_dict[\"index\"] = []\n",
    "    \n",
    "    for filepath in list(folder.glob(\"*.txt\")):\n",
    "        with open(filepath, 'r') as f:    \n",
    "            df_dict[\"index\"].append(filepath.stem.split(\"-\")[0])\n",
    "            for col, value in zip(metadata_columns, f.readlines()):\n",
    "                df_dict[col].append(value[0:-1])\n",
    "    \n",
    "    df = pd.DataFrame(df_dict)\n",
    "    df = df.replace(\"None\", np.nan)\n",
    "    df = df.astype(metadata_dtypes, errors='ignore').set_index(\"index\", drop=True)\n",
    "    df.index.name = None\n",
    "    \n",
    "    return df"
   ]
  },
  {
   "cell_type": "markdown",
   "metadata": {},
   "source": [
    "## Preparing Dataset"
   ]
  },
  {
   "cell_type": "code",
   "execution_count": 18,
   "metadata": {},
   "outputs": [],
   "source": [
    "FAKE_DATA_FOLDER = RAW_DATA_FOLDER / 'fake'\n",
    "TRUE_DATA_FOLDER = RAW_DATA_FOLDER / 'true'\n",
    "FAKE_META_FOLDER = RAW_DATA_FOLDER / 'fake-meta-information'\n",
    "TRUE_META_FOLDER = RAW_DATA_FOLDER / 'true-meta-information'"
   ]
  },
  {
   "cell_type": "markdown",
   "metadata": {},
   "source": [
    "### Text datasets"
   ]
  },
  {
   "cell_type": "code",
   "execution_count": 19,
   "metadata": {},
   "outputs": [],
   "source": [
    "fake_text_df = create_text_dataframe(FAKE_DATA_FOLDER)\n",
    "true_text_df = create_text_dataframe(TRUE_DATA_FOLDER)"
   ]
  },
  {
   "cell_type": "markdown",
   "metadata": {},
   "source": [
    "### Metadata Datasets"
   ]
  },
  {
   "cell_type": "code",
   "execution_count": 20,
   "metadata": {},
   "outputs": [],
   "source": [
    "metadata_columns = [\n",
    "    \"author\", \"link\", \"category\", \"date_of_publication\",\n",
    "    \"tokens\", \"words_no_punctuation\", \"types\", \"links_inside\", \n",
    "    \"upper_words\", \"verbs\", \"subjuntive_imperative_verbs\",\n",
    "    \"nouns\", \"adjectives\", \"adverbs\", \"modal_verbs\", \n",
    "    \"singular_first_second_personal_pronouns\",\n",
    "    \"plural_first_personal_pronouns\", \"pronouns\",\n",
    "    \"pausality\", \"characters\", \"average_sentence_length\",\n",
    "    \"average_word_lenght\", \"percentage_spelling_errors\",\n",
    "    \"emotiveness\", \"diversity\"\n",
    "]\n",
    "\n",
    "metadata_translate = [\n",
    "    \"author\", \"link\", \"category\", \"date of publication\", \"number of tokens\",\n",
    "    \"number of words without punctuation\", \"number of types\",\n",
    "    \"number of links inside the news\", \"number of words in upper case\",\n",
    "    \"number of verbs\", \"number of subjuntive and imperative verbs\",\n",
    "    \"number of nouns\", \"number of adjectives\", \"number of adverbs\",\n",
    "    \"number of modal verbs (mainly auxiliary verbs)\",\n",
    "    \"number of singular first and second personal pronouns\",\n",
    "    \"number of plural first personal pronouns\", \"number of pronouns\",\n",
    "    \"pausality\", \"number of characters\", \"average sentence length\",\n",
    "    \"average word length\", \"percentage of news with speeling errors\",\n",
    "    \"emotiveness\", \"diversity\"\n",
    "]\n",
    "\n",
    "metadata_dtypes = {\n",
    "    \"author\": \"string\", \"link\": \"string\", \"category\": \"string\",\n",
    "    \"date_of_publication\": \"datetime64[ns]\",\n",
    "    \"tokens\": \"float\", \"words_no_punctuation\": \"float\",\n",
    "    \"types\": \"float\",\"links_inside\": \"float\", \"upper_words\": \"float\",\n",
    "    \"verbs\": \"float\", \"subjuntive_imperative_verbs\": \"float\", \"nouns\": \"float\", \n",
    "    \"adjectives\": \"float\", \"adverbs\": \"float\",\"modal_verbs\": \"float\", \n",
    "    \"singular_first_second_personal_pronouns\": \"float\",\n",
    "    \"plural_first_personal_pronouns\": \"float\", \"pronouns\": \"float\",\"characters\": \"float\",\n",
    "    \"pausality\": \"float\", \"average_sentence_length\": \"float\",\n",
    "    \"average_word_lenght\": \"float\", \"percentage_spelling_errors\": \"float\",\n",
    "    \"emotiveness\": \"float\", \"diversity\": \"float\"\n",
    "}"
   ]
  },
  {
   "cell_type": "code",
   "execution_count": 21,
   "metadata": {},
   "outputs": [],
   "source": [
    "fake_metadata_df = create_metadata_datasets(FAKE_META_FOLDER, metadata_columns, metadata_dtypes)\n",
    "true_metadata_df = create_metadata_datasets(TRUE_META_FOLDER, metadata_columns, metadata_dtypes)"
   ]
  },
  {
   "cell_type": "code",
   "execution_count": 22,
   "metadata": {},
   "outputs": [
    {
     "data": {
      "text/plain": [
       "array([ 0., nan])"
      ]
     },
     "execution_count": 22,
     "metadata": {},
     "output_type": "execute_result"
    }
   ],
   "source": [
    "true_metadata_df.links_inside.unique()"
   ]
  },
  {
   "cell_type": "code",
   "execution_count": 23,
   "metadata": {},
   "outputs": [
    {
     "data": {
      "text/html": [
       "<div>\n",
       "<style scoped>\n",
       "    .dataframe tbody tr th:only-of-type {\n",
       "        vertical-align: middle;\n",
       "    }\n",
       "\n",
       "    .dataframe tbody tr th {\n",
       "        vertical-align: top;\n",
       "    }\n",
       "\n",
       "    .dataframe thead th {\n",
       "        text-align: right;\n",
       "    }\n",
       "</style>\n",
       "<table border=\"1\" class=\"dataframe\">\n",
       "  <thead>\n",
       "    <tr style=\"text-align: right;\">\n",
       "      <th></th>\n",
       "      <th>author</th>\n",
       "      <th>link</th>\n",
       "      <th>category</th>\n",
       "      <th>date_of_publication</th>\n",
       "      <th>tokens</th>\n",
       "      <th>words_no_punctuation</th>\n",
       "      <th>types</th>\n",
       "      <th>links_inside</th>\n",
       "      <th>upper_words</th>\n",
       "      <th>verbs</th>\n",
       "      <th>...</th>\n",
       "      <th>singular_first_second_personal_pronouns</th>\n",
       "      <th>plural_first_personal_pronouns</th>\n",
       "      <th>pronouns</th>\n",
       "      <th>pausality</th>\n",
       "      <th>characters</th>\n",
       "      <th>average_sentence_length</th>\n",
       "      <th>average_word_lenght</th>\n",
       "      <th>percentage_spelling_errors</th>\n",
       "      <th>emotiveness</th>\n",
       "      <th>diversity</th>\n",
       "    </tr>\n",
       "  </thead>\n",
       "  <tbody>\n",
       "    <tr>\n",
       "      <th>2175</th>\n",
       "      <td>Por G1 DF</td>\n",
       "      <td>https://g1.globo.com/df/distrito-federal/notic...</td>\n",
       "      <td>sociedade_cotidiano</td>\n",
       "      <td>22/03/2018 07h10</td>\n",
       "      <td>741.0</td>\n",
       "      <td>640.0</td>\n",
       "      <td>361.0</td>\n",
       "      <td>NaN</td>\n",
       "      <td>5.0</td>\n",
       "      <td>76.0</td>\n",
       "      <td>...</td>\n",
       "      <td>0.0</td>\n",
       "      <td>0.0</td>\n",
       "      <td>18.0</td>\n",
       "      <td>3.06061</td>\n",
       "      <td>3143.0</td>\n",
       "      <td>19.3939</td>\n",
       "      <td>4.91094</td>\n",
       "      <td>0.003125</td>\n",
       "      <td>0.184116</td>\n",
       "      <td>0.56406</td>\n",
       "    </tr>\n",
       "    <tr>\n",
       "      <th>1179</th>\n",
       "      <td>Luiz Vassallo, Rafael Moraes Moura, Breno Pir...</td>\n",
       "      <td>http://politica.estadao.com.br/blogs/fausto-ma...</td>\n",
       "      <td>tv_celebridades</td>\n",
       "      <td>23 de setembro de 2017</td>\n",
       "      <td>1289.0</td>\n",
       "      <td>1173.0</td>\n",
       "      <td>529.0</td>\n",
       "      <td>NaN</td>\n",
       "      <td>14.0</td>\n",
       "      <td>146.0</td>\n",
       "      <td>...</td>\n",
       "      <td>0.0</td>\n",
       "      <td>0.0</td>\n",
       "      <td>62.0</td>\n",
       "      <td>2.76190</td>\n",
       "      <td>5997.0</td>\n",
       "      <td>27.9286</td>\n",
       "      <td>5.11253</td>\n",
       "      <td>0.002558</td>\n",
       "      <td>0.235294</td>\n",
       "      <td>0.45090</td>\n",
       "    </tr>\n",
       "    <tr>\n",
       "      <th>2335</th>\n",
       "      <td>Por Erick Gimenes e José Vianna, G1 PR, Curit...</td>\n",
       "      <td>https://g1.globo.com/pr/parana/noticia/moro-de...</td>\n",
       "      <td>tv_celebridades</td>\n",
       "      <td>28/04/2017 18h52</td>\n",
       "      <td>429.0</td>\n",
       "      <td>387.0</td>\n",
       "      <td>206.0</td>\n",
       "      <td>NaN</td>\n",
       "      <td>1.0</td>\n",
       "      <td>64.0</td>\n",
       "      <td>...</td>\n",
       "      <td>0.0</td>\n",
       "      <td>0.0</td>\n",
       "      <td>17.0</td>\n",
       "      <td>2.62500</td>\n",
       "      <td>1951.0</td>\n",
       "      <td>24.1875</td>\n",
       "      <td>5.04134</td>\n",
       "      <td>0.000000</td>\n",
       "      <td>0.125714</td>\n",
       "      <td>0.53200</td>\n",
       "    </tr>\n",
       "    <tr>\n",
       "      <th>243</th>\n",
       "      <td>Bernardo Caram, Alessandra Modzeleski E Fernan...</td>\n",
       "      <td>https://g1.globo.com/politica/noticia/rodrigo-...</td>\n",
       "      <td>politica</td>\n",
       "      <td>14/12/2017</td>\n",
       "      <td>599.0</td>\n",
       "      <td>505.0</td>\n",
       "      <td>241.0</td>\n",
       "      <td>NaN</td>\n",
       "      <td>4.0</td>\n",
       "      <td>88.0</td>\n",
       "      <td>...</td>\n",
       "      <td>3.0</td>\n",
       "      <td>4.0</td>\n",
       "      <td>34.0</td>\n",
       "      <td>3.35714</td>\n",
       "      <td>2392.0</td>\n",
       "      <td>18.0357</td>\n",
       "      <td>4.73663</td>\n",
       "      <td>0.000000</td>\n",
       "      <td>0.163090</td>\n",
       "      <td>0.47722</td>\n",
       "    </tr>\n",
       "    <tr>\n",
       "      <th>1596</th>\n",
       "      <td>Por G1</td>\n",
       "      <td>https://g1.globo.com/pop-arte/cinema/noticia/i...</td>\n",
       "      <td>sociedade_cotidiano</td>\n",
       "      <td>07/09/2017 08h32</td>\n",
       "      <td>989.0</td>\n",
       "      <td>829.0</td>\n",
       "      <td>469.0</td>\n",
       "      <td>NaN</td>\n",
       "      <td>4.0</td>\n",
       "      <td>125.0</td>\n",
       "      <td>...</td>\n",
       "      <td>0.0</td>\n",
       "      <td>0.0</td>\n",
       "      <td>57.0</td>\n",
       "      <td>4.10256</td>\n",
       "      <td>3967.0</td>\n",
       "      <td>21.2564</td>\n",
       "      <td>4.78528</td>\n",
       "      <td>0.001206</td>\n",
       "      <td>0.273973</td>\n",
       "      <td>0.56574</td>\n",
       "    </tr>\n",
       "    <tr>\n",
       "      <th>...</th>\n",
       "      <td>...</td>\n",
       "      <td>...</td>\n",
       "      <td>...</td>\n",
       "      <td>...</td>\n",
       "      <td>...</td>\n",
       "      <td>...</td>\n",
       "      <td>...</td>\n",
       "      <td>...</td>\n",
       "      <td>...</td>\n",
       "      <td>...</td>\n",
       "      <td>...</td>\n",
       "      <td>...</td>\n",
       "      <td>...</td>\n",
       "      <td>...</td>\n",
       "      <td>...</td>\n",
       "      <td>...</td>\n",
       "      <td>...</td>\n",
       "      <td>...</td>\n",
       "      <td>...</td>\n",
       "      <td>...</td>\n",
       "      <td>...</td>\n",
       "    </tr>\n",
       "    <tr>\n",
       "      <th>1127</th>\n",
       "      <td>Por BBC</td>\n",
       "      <td>https://g1.globo.com/politica/noticia/essa-ide...</td>\n",
       "      <td>politica</td>\n",
       "      <td>19/05/2017 09h24</td>\n",
       "      <td>1014.0</td>\n",
       "      <td>855.0</td>\n",
       "      <td>416.0</td>\n",
       "      <td>NaN</td>\n",
       "      <td>2.0</td>\n",
       "      <td>150.0</td>\n",
       "      <td>...</td>\n",
       "      <td>1.0</td>\n",
       "      <td>1.0</td>\n",
       "      <td>86.0</td>\n",
       "      <td>3.11765</td>\n",
       "      <td>4237.0</td>\n",
       "      <td>16.7647</td>\n",
       "      <td>4.95556</td>\n",
       "      <td>0.001170</td>\n",
       "      <td>0.355114</td>\n",
       "      <td>0.48650</td>\n",
       "    </tr>\n",
       "    <tr>\n",
       "      <th>2931</th>\n",
       "      <td>Por Matheus Rodrigues e Cássio Bruno, G1 Rio</td>\n",
       "      <td>https://g1.globo.com/rj/rio-de-janeiro/noticia...</td>\n",
       "      <td>politica</td>\n",
       "      <td>19/11/2017 12h53</td>\n",
       "      <td>974.0</td>\n",
       "      <td>812.0</td>\n",
       "      <td>430.0</td>\n",
       "      <td>NaN</td>\n",
       "      <td>8.0</td>\n",
       "      <td>111.0</td>\n",
       "      <td>...</td>\n",
       "      <td>1.0</td>\n",
       "      <td>0.0</td>\n",
       "      <td>37.0</td>\n",
       "      <td>3.44681</td>\n",
       "      <td>3892.0</td>\n",
       "      <td>17.2766</td>\n",
       "      <td>4.79310</td>\n",
       "      <td>0.001232</td>\n",
       "      <td>0.195531</td>\n",
       "      <td>0.52955</td>\n",
       "    </tr>\n",
       "    <tr>\n",
       "      <th>3392</th>\n",
       "      <td>Por BBC</td>\n",
       "      <td>https://g1.globo.com/economia/tecnologia/notic...</td>\n",
       "      <td>politica</td>\n",
       "      <td>21/03/2018 13h40</td>\n",
       "      <td>1149.0</td>\n",
       "      <td>1035.0</td>\n",
       "      <td>458.0</td>\n",
       "      <td>NaN</td>\n",
       "      <td>8.0</td>\n",
       "      <td>175.0</td>\n",
       "      <td>...</td>\n",
       "      <td>1.0</td>\n",
       "      <td>2.0</td>\n",
       "      <td>67.0</td>\n",
       "      <td>2.65116</td>\n",
       "      <td>5271.0</td>\n",
       "      <td>24.0698</td>\n",
       "      <td>5.09275</td>\n",
       "      <td>0.001932</td>\n",
       "      <td>0.175055</td>\n",
       "      <td>0.44251</td>\n",
       "    </tr>\n",
       "    <tr>\n",
       "      <th>2922</th>\n",
       "      <td>Por Fernanda Borges, G1 GO</td>\n",
       "      <td>https://g1.globo.com/goias/noticia/ex-deputado...</td>\n",
       "      <td>politica</td>\n",
       "      <td>14/04/2017 11h39</td>\n",
       "      <td>1797.0</td>\n",
       "      <td>1563.0</td>\n",
       "      <td>624.0</td>\n",
       "      <td>NaN</td>\n",
       "      <td>19.0</td>\n",
       "      <td>223.0</td>\n",
       "      <td>...</td>\n",
       "      <td>4.0</td>\n",
       "      <td>0.0</td>\n",
       "      <td>76.0</td>\n",
       "      <td>3.54545</td>\n",
       "      <td>7698.0</td>\n",
       "      <td>23.6818</td>\n",
       "      <td>4.92514</td>\n",
       "      <td>0.000000</td>\n",
       "      <td>0.168142</td>\n",
       "      <td>0.39923</td>\n",
       "    </tr>\n",
       "    <tr>\n",
       "      <th>7</th>\n",
       "      <td>G1 MA</td>\n",
       "      <td>https://g1.globo.com/ma/maranhao/noticia/minis...</td>\n",
       "      <td>sociedade_cotidiano</td>\n",
       "      <td>27/11/2017</td>\n",
       "      <td>502.0</td>\n",
       "      <td>459.0</td>\n",
       "      <td>239.0</td>\n",
       "      <td>NaN</td>\n",
       "      <td>12.0</td>\n",
       "      <td>49.0</td>\n",
       "      <td>...</td>\n",
       "      <td>0.0</td>\n",
       "      <td>0.0</td>\n",
       "      <td>9.0</td>\n",
       "      <td>2.86667</td>\n",
       "      <td>2255.0</td>\n",
       "      <td>30.6000</td>\n",
       "      <td>4.91285</td>\n",
       "      <td>0.006536</td>\n",
       "      <td>0.122449</td>\n",
       "      <td>0.52069</td>\n",
       "    </tr>\n",
       "  </tbody>\n",
       "</table>\n",
       "<p>1393 rows × 25 columns</p>\n",
       "</div>"
      ],
      "text/plain": [
       "                                                 author  \\\n",
       "2175                                         Por G1 DF    \n",
       "1179   Luiz Vassallo, Rafael Moraes Moura, Breno Pir...   \n",
       "2335   Por Erick Gimenes e José Vianna, G1 PR, Curit...   \n",
       "243   Bernardo Caram, Alessandra Modzeleski E Fernan...   \n",
       "1596                                            Por G1    \n",
       "...                                                 ...   \n",
       "1127                                           Por BBC    \n",
       "2931      Por Matheus Rodrigues e Cássio Bruno, G1 Rio    \n",
       "3392                                           Por BBC    \n",
       "2922                        Por Fernanda Borges, G1 GO    \n",
       "7                                                 G1 MA   \n",
       "\n",
       "                                                   link             category  \\\n",
       "2175  https://g1.globo.com/df/distrito-federal/notic...  sociedade_cotidiano   \n",
       "1179  http://politica.estadao.com.br/blogs/fausto-ma...      tv_celebridades   \n",
       "2335  https://g1.globo.com/pr/parana/noticia/moro-de...      tv_celebridades   \n",
       "243   https://g1.globo.com/politica/noticia/rodrigo-...             politica   \n",
       "1596  https://g1.globo.com/pop-arte/cinema/noticia/i...  sociedade_cotidiano   \n",
       "...                                                 ...                  ...   \n",
       "1127  https://g1.globo.com/politica/noticia/essa-ide...             politica   \n",
       "2931  https://g1.globo.com/rj/rio-de-janeiro/noticia...             politica   \n",
       "3392  https://g1.globo.com/economia/tecnologia/notic...             politica   \n",
       "2922  https://g1.globo.com/goias/noticia/ex-deputado...             politica   \n",
       "7     https://g1.globo.com/ma/maranhao/noticia/minis...  sociedade_cotidiano   \n",
       "\n",
       "           date_of_publication  tokens  words_no_punctuation  types  \\\n",
       "2175         22/03/2018 07h10    741.0                 640.0  361.0   \n",
       "1179   23 de setembro de 2017   1289.0                1173.0  529.0   \n",
       "2335         28/04/2017 18h52    429.0                 387.0  206.0   \n",
       "243                 14/12/2017   599.0                 505.0  241.0   \n",
       "1596         07/09/2017 08h32    989.0                 829.0  469.0   \n",
       "...                        ...     ...                   ...    ...   \n",
       "1127         19/05/2017 09h24   1014.0                 855.0  416.0   \n",
       "2931         19/11/2017 12h53    974.0                 812.0  430.0   \n",
       "3392         21/03/2018 13h40   1149.0                1035.0  458.0   \n",
       "2922         14/04/2017 11h39   1797.0                1563.0  624.0   \n",
       "7                   27/11/2017   502.0                 459.0  239.0   \n",
       "\n",
       "      links_inside  upper_words  verbs  ...  \\\n",
       "2175           NaN          5.0   76.0  ...   \n",
       "1179           NaN         14.0  146.0  ...   \n",
       "2335           NaN          1.0   64.0  ...   \n",
       "243            NaN          4.0   88.0  ...   \n",
       "1596           NaN          4.0  125.0  ...   \n",
       "...            ...          ...    ...  ...   \n",
       "1127           NaN          2.0  150.0  ...   \n",
       "2931           NaN          8.0  111.0  ...   \n",
       "3392           NaN          8.0  175.0  ...   \n",
       "2922           NaN         19.0  223.0  ...   \n",
       "7              NaN         12.0   49.0  ...   \n",
       "\n",
       "      singular_first_second_personal_pronouns  plural_first_personal_pronouns  \\\n",
       "2175                                      0.0                             0.0   \n",
       "1179                                      0.0                             0.0   \n",
       "2335                                      0.0                             0.0   \n",
       "243                                       3.0                             4.0   \n",
       "1596                                      0.0                             0.0   \n",
       "...                                       ...                             ...   \n",
       "1127                                      1.0                             1.0   \n",
       "2931                                      1.0                             0.0   \n",
       "3392                                      1.0                             2.0   \n",
       "2922                                      4.0                             0.0   \n",
       "7                                         0.0                             0.0   \n",
       "\n",
       "      pronouns  pausality  characters  average_sentence_length  \\\n",
       "2175      18.0    3.06061      3143.0                  19.3939   \n",
       "1179      62.0    2.76190      5997.0                  27.9286   \n",
       "2335      17.0    2.62500      1951.0                  24.1875   \n",
       "243       34.0    3.35714      2392.0                  18.0357   \n",
       "1596      57.0    4.10256      3967.0                  21.2564   \n",
       "...        ...        ...         ...                      ...   \n",
       "1127      86.0    3.11765      4237.0                  16.7647   \n",
       "2931      37.0    3.44681      3892.0                  17.2766   \n",
       "3392      67.0    2.65116      5271.0                  24.0698   \n",
       "2922      76.0    3.54545      7698.0                  23.6818   \n",
       "7          9.0    2.86667      2255.0                  30.6000   \n",
       "\n",
       "      average_word_lenght  percentage_spelling_errors  emotiveness  diversity  \n",
       "2175              4.91094                    0.003125     0.184116    0.56406  \n",
       "1179              5.11253                    0.002558     0.235294    0.45090  \n",
       "2335              5.04134                    0.000000     0.125714    0.53200  \n",
       "243               4.73663                    0.000000     0.163090    0.47722  \n",
       "1596              4.78528                    0.001206     0.273973    0.56574  \n",
       "...                   ...                         ...          ...        ...  \n",
       "1127              4.95556                    0.001170     0.355114    0.48650  \n",
       "2931              4.79310                    0.001232     0.195531    0.52955  \n",
       "3392              5.09275                    0.001932     0.175055    0.44251  \n",
       "2922              4.92514                    0.000000     0.168142    0.39923  \n",
       "7                 4.91285                    0.006536     0.122449    0.52069  \n",
       "\n",
       "[1393 rows x 25 columns]"
      ]
     },
     "execution_count": 23,
     "metadata": {},
     "output_type": "execute_result"
    }
   ],
   "source": [
    "true_metadata_df[true_metadata_df.links_inside.isna()]"
   ]
  },
  {
   "cell_type": "code",
   "execution_count": 24,
   "metadata": {},
   "outputs": [
    {
     "data": {
      "text/plain": [
       "array([ 0.,  1.,  2.,  3.,  4.,  5.,  9., 11.,  6.,  8.])"
      ]
     },
     "execution_count": 24,
     "metadata": {},
     "output_type": "execute_result"
    }
   ],
   "source": [
    "fake_metadata_df.links_inside.unique()"
   ]
  },
  {
   "cell_type": "markdown",
   "metadata": {},
   "source": [
    "## Merging Created Datasets"
   ]
  },
  {
   "cell_type": "markdown",
   "metadata": {},
   "source": [
    "### Fake Dataset"
   ]
  },
  {
   "cell_type": "code",
   "execution_count": 25,
   "metadata": {},
   "outputs": [],
   "source": [
    "fake_df = pd.concat([fake_text_df, fake_metadata_df], axis=1, sort=False)\n",
    "fake_df.index = fake_df.index.astype(int)\n",
    "fake_df = fake_df.sort_index()\n",
    "fake_df = fake_df.reset_index(drop=True)"
   ]
  },
  {
   "cell_type": "code",
   "execution_count": 26,
   "metadata": {},
   "outputs": [
    {
     "data": {
      "text/plain": [
       "array([ 0.,  1.,  2.,  3.,  4.,  5.,  9., 11.,  6.,  8.])"
      ]
     },
     "execution_count": 26,
     "metadata": {},
     "output_type": "execute_result"
    }
   ],
   "source": [
    "fake_metadata_df.links_inside.unique()"
   ]
  },
  {
   "cell_type": "markdown",
   "metadata": {},
   "source": [
    "### True Dataset"
   ]
  },
  {
   "cell_type": "code",
   "execution_count": 27,
   "metadata": {},
   "outputs": [],
   "source": [
    "true_df = pd.concat([true_text_df, true_metadata_df], axis=1, sort=False)\n",
    "true_df.index = true_df.index.astype(int)\n",
    "true_df = true_df.sort_index()\n",
    "true_df = true_df.reset_index(drop=True)"
   ]
  },
  {
   "cell_type": "code",
   "execution_count": 28,
   "metadata": {},
   "outputs": [
    {
     "data": {
      "text/plain": [
       "array([nan,  0.])"
      ]
     },
     "execution_count": 28,
     "metadata": {},
     "output_type": "execute_result"
    }
   ],
   "source": [
    "true_df.links_inside.unique()"
   ]
  },
  {
   "cell_type": "markdown",
   "metadata": {},
   "source": [
    "## Merge All Datasets"
   ]
  },
  {
   "cell_type": "code",
   "execution_count": 29,
   "metadata": {},
   "outputs": [],
   "source": [
    "result = pd.concat([true_df, fake_df], keys=['True', 'Fake'])\n",
    "result = result.reset_index(level=0).rename(columns={\"level_0\": \"class\"})\n",
    "\n",
    "result.to_csv(INTERMEDIATE_DATA_FOLDER/\"fake_true_news.csv\", index=False)"
   ]
  },
  {
   "cell_type": "markdown",
   "metadata": {},
   "source": [
    "## Columns Information"
   ]
  },
  {
   "cell_type": "code",
   "execution_count": 30,
   "metadata": {},
   "outputs": [],
   "source": [
    "columns_info ={}\n",
    "columns_info['text'] = 'Text extracted from the news'\n",
    "for var, desc in zip(metadata_columns, metadata_translate):\n",
    "    columns_info[var] = desc"
   ]
  },
  {
   "cell_type": "code",
   "execution_count": 31,
   "metadata": {},
   "outputs": [],
   "source": [
    "with open(REFERENCE_FOLDER / \"news_data_dictionary.json\",\"w\") as f:\n",
    "    f.write(json.dumps(columns_info))\n",
    "    f.close()"
   ]
  }
 ],
 "metadata": {
  "kernelspec": {
   "display_name": "Python 3",
   "language": "python",
   "name": "python3"
  },
  "language_info": {
   "codemirror_mode": {
    "name": "ipython",
    "version": 3
   },
   "file_extension": ".py",
   "mimetype": "text/x-python",
   "name": "python",
   "nbconvert_exporter": "python",
   "pygments_lexer": "ipython3",
   "version": "3.8.5"
  }
 },
 "nbformat": 4,
 "nbformat_minor": 4
}
