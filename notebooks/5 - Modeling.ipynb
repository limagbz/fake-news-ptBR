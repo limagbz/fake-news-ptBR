{
 "cells": [
  {
   "cell_type": "markdown",
   "metadata": {},
   "source": [
    "# Logistic Regression"
   ]
  },
  {
   "cell_type": "markdown",
   "metadata": {},
   "source": [
    "#### The idea is to adjust the data on a logistic regression model"
   ]
  },
  {
   "cell_type": "code",
   "execution_count": null,
   "metadata": {},
   "outputs": [],
   "source": [
    "#Limpando o console\n",
    "rm(list=ls())\n",
    "\n",
    "#Packages\n",
    "library(mfx)\n",
    "library(stargazer) \n",
    "library(car)"
   ]
  },
  {
   "cell_type": "markdown",
   "metadata": {},
   "source": [
    "#### Data"
   ]
  },
  {
   "cell_type": "code",
   "execution_count": null,
   "metadata": {},
   "outputs": [],
   "source": [
    "FILE_PATH = \".../data/fake_true_news_cleaned_features.csv\"\n",
    "Dados <- read.csv(FILE_PATH, sep=\",\")\n",
    "#links_inside e upper_words\n",
    "\n",
    "# data Classes\n",
    "t(t(sapply(Dados, class)))\n",
    "\n",
    "# Transformation in the variable class(Fake-true) in categoric\n",
    "Dados$class <- as.factor(Dados$class)\n",
    "class(Dados$class)"
   ]
  },
  {
   "cell_type": "markdown",
   "metadata": {},
   "source": [
    "# Modeling"
   ]
  },
  {
   "cell_type": "markdown",
   "metadata": {},
   "source": [
    "##### We utilized general linear models (glm) with Class as the dependent variable. The model's family are (family = binomial(link=\"logit\"))"
   ]
  },
  {
   "cell_type": "markdown",
   "metadata": {},
   "source": [
    " We adjusted the model with all the variables of the data. According to the results 5 variables show statistical significance: : Types, characters, average_sentence_length, percent_subjuntive_imperative_verbs e percent_modal_verbs. Because of multicolinearity we adjusted the models without the Types and Character variables."
   ]
  },
  {
   "cell_type": "markdown",
   "metadata": {},
   "source": [
    "#### <font color=red> MODEL 1</font>"
   ]
  },
  {
   "cell_type": "code",
   "execution_count": null,
   "metadata": {},
   "outputs": [],
   "source": [
    "#Ajustando a regressão\n",
    "my_model <- glm(class ~ file_index +  tokens + types + pausality + characters + average_sentence_length + average_word_lenght\n",
    "                                 + percentage_spelling_errors + emotiveness + diversity + percent_words_no_punctuation +  percent_adjectives \n",
    "                                 + percent_adverbs + percent_nouns + percent_subjuntive_imperative_verbs + percent_upper_words + percent_verbs\n",
    "                                 + percent_modal_verbs + percent_pronouns, data = Dados, family = binomial(link=\"logit\"))\n",
    "summary(my_model)"
   ]
  },
  {
   "cell_type": "code",
   "execution_count": null,
   "metadata": {},
   "outputs": [],
   "source": [
    "#modelo com variaveis significativas\n",
    "my_model <- glm(class ~  types + characters + average_sentence_length\n",
    "                                  +  percent_subjuntive_imperative_verbs\n",
    "                                 + percent_modal_verbs, data = Dados, family = binomial(link=\"logit\"))\n",
    "summary(my_model)"
   ]
  },
  {
   "cell_type": "code",
   "execution_count": null,
   "metadata": {},
   "outputs": [],
   "source": [
    "#Previsao dos modelos\n",
    "predictions_mlg <- predict(my_model, Dados, type=\"response\")\n",
    "predicted.classes <- ifelse(predictions_mlg  > 0.5, \"1\", \"0\")\n",
    "       \n",
    "#acuracia\n",
    "acuracia_rate_mlg <- mean(predicted.classes == Dados$class)\n",
    "print(acuracia_rate_mlg)"
   ]
  },
  {
   "cell_type": "markdown",
   "metadata": {},
   "source": [
    "#### <font color=red> MODEL 2 </font>"
   ]
  },
  {
   "cell_type": "code",
   "execution_count": null,
   "metadata": {},
   "outputs": [],
   "source": [
    "#Ajustando a regressão\n",
    "my_model <- glm(class ~    types  + characters +average_sentence_length \n",
    "                                + percent_subjuntive_imperative_verbs + percent_modal_verbs \n",
    "                              , data = Dados, family = binomial(link=\"logit\"))\n",
    "summary(my_model)"
   ]
  },
  {
   "cell_type": "code",
   "execution_count": null,
   "metadata": {},
   "outputs": [],
   "source": [
    "#Previsao dos modelos\n",
    "predictions_mlg <- predict(my_model, Dados, type = \"response\")\n",
    "predicted.classes <- ifelse(predictions_mlg  > 0.6, \"1\", \"0\")\n",
    "\n",
    "#acuracia\n",
    "acuracia_rate_mlg <- mean(predicted.classes == Dados$class)\n",
    "print(acuracia_rate_mlg)"
   ]
  },
  {
   "cell_type": "code",
   "execution_count": null,
   "metadata": {},
   "outputs": [],
   "source": [
    "df <- table(Dados$class, predictions_mlg > 0.5) \n",
    "df"
   ]
  },
  {
   "cell_type": "code",
   "execution_count": null,
   "metadata": {},
   "outputs": [],
   "source": [
    "#Calculando a predição, Recall e F_measure\n",
    "\n",
    "#Precision\n",
    "precision <- df[1,1]/sum(df[1,1:2])\n",
    "round(precision, 4)\n",
    "\n",
    "\n",
    "#Recall\n",
    "recall <- df[1,1]/sum(df[1:2,1])\n",
    "round(recall,4)\n",
    "\n",
    "#F-measure\n",
    "Fmeasure <- 2 * precision * recall / (precision + recall)\n",
    "round(Fmeasure,4)\n",
    "\n"
   ]
  },
  {
   "cell_type": "markdown",
   "metadata": {},
   "source": [
    "#### Calculating the exponentiated coefficient for each model variable and their confidence intervals"
   ]
  },
  {
   "cell_type": "code",
   "execution_count": null,
   "metadata": {},
   "outputs": [],
   "source": [
    "exp(cbind(OR = coef(my_model), confint(my_model)))"
   ]
  },
  {
   "cell_type": "markdown",
   "metadata": {},
   "source": [
    "#### <font color=red> MODEL 3 </font>"
   ]
  },
  {
   "cell_type": "code",
   "execution_count": null,
   "metadata": {},
   "outputs": [],
   "source": [
    "#Ajustando a regressão\n",
    "my_model <- glm(class ~ characters +average_sentence_length \n",
    "                                + percent_subjuntive_imperative_verbs + percent_modal_verbs \n",
    "                              , data = Dados, family = binomial(link=\"logit\"))\n",
    "summary(my_model)"
   ]
  },
  {
   "cell_type": "code",
   "execution_count": null,
   "metadata": {},
   "outputs": [],
   "source": [
    "exp(cbind(OR = coef(my_model), confint(my_model)))"
   ]
  },
  {
   "cell_type": "code",
   "execution_count": null,
   "metadata": {},
   "outputs": [],
   "source": [
    "#Previsao dos modelos\n",
    "predictions_mlg <- predict(my_model, Dados, type=\"response\")\n",
    "predicted.classes <- ifelse(predictions_mlg  > 0.6, \"1\", \"0\")\n",
    "        \n",
    "#acuracia\n",
    "acuracia_rate_mlg <- mean(predicted.classes == Dados$class)\n",
    "print(acuracia_rate_mlg)"
   ]
  },
  {
   "cell_type": "markdown",
   "metadata": {},
   "source": [
    "#### <font color=red> MODEL 4 </font>"
   ]
  },
  {
   "cell_type": "code",
   "execution_count": null,
   "metadata": {},
   "outputs": [],
   "source": [
    "#Ajustando a regressão\n",
    "my_model<-glm(class~types+average_sentence_length+percent_subjuntive_imperative_verbs+percent_modal_verbs,\n",
    "              data = Dados, family = binomial(link=\"logit\"))\n",
    "\n",
    "summary(my_model)"
   ]
  },
  {
   "cell_type": "code",
   "execution_count": null,
   "metadata": {},
   "outputs": [],
   "source": [
    "#Previsao dos modelos\n",
    "    predictions_mlg <- predict(my_model, Dados, type=\"response\")\n",
    "    predicted.classes <- ifelse(predictions_mlg  > 0.6, \"1\", \"0\")\n",
    "        \n",
    "#acuracia\n",
    "    acuracia_rate_mlg <- mean(predicted.classes == Dados$class)\n",
    "    print(acuracia_rate_mlg)"
   ]
  },
  {
   "cell_type": "code",
   "execution_count": null,
   "metadata": {},
   "outputs": [],
   "source": [
    "#Data\n",
    "dat <- read.csv(\"C:\\\\Users\\\\Wanessa\\\\Desktop\\\\Regression Logist\\\\FAKE_R.csv\", sep=\",\")\n",
    "str(dat)\n",
    "\n",
    "# Transformation in the variable class(Fake-true) in categoric\n",
    "dat$class <- as.factor(dat$class)\n",
    "class(dat$class)\n",
    "\n",
    "#Dimension \n",
    "dim(dat)\n",
    "\n",
    "#Class Variable\n",
    "t(t(sapply(dat, class)))\n",
    "\n"
   ]
  },
  {
   "cell_type": "markdown",
   "metadata": {},
   "source": [
    "# Train and Test"
   ]
  },
  {
   "cell_type": "markdown",
   "metadata": {},
   "source": [
    "# 30 times 10 fold"
   ]
  },
  {
   "cell_type": "code",
   "execution_count": null,
   "metadata": {},
   "outputs": [],
   "source": [
    "#Captura o tamanho da amostra\n",
    "n <- nrow(dat)\n",
    "\n",
    "#30 replicas de 10-folds (Colocar qd terminar os valores certos)\n",
    "R <- 30\n",
    "folds <- 10\n",
    "\n",
    "#mean_error_rate <- rep(0, R)\n",
    "mean_erro_rate_mlg <- rep(0, R)\n",
    "mean_acuracia_rate_mlg <- rep(0, R)\n",
    "#error_rate <- rep(0, folds)\n",
    "acuracia_rate_mlg <- rep(0, folds)\n",
    "erro_rate_mlg <- rep(0, folds)\n",
    "\n",
    "#Gerando os Dados\n",
    "#fixando uma semente\n",
    "se1 = 1994 ; se2 = 1991#random seed\n",
    "set.seed(c(se1,se2), kind=\"Marsaglia-Multicarry\")\n",
    "\n",
    "\n",
    "for(r in 1 : R){\n",
    "  for(i in 1 : folds){\n",
    "    s <- sample(1 : n, replace = F, floor(.1*n))\n",
    "    length(s)\n",
    "\n",
    "    train <- dat[-s, ]\n",
    "    test <- dat[s, ]\n",
    "    #tirei isso para ficar igual\n",
    "    #test <- dat[s, -ncol(dat)]\n",
    "    target_test <- dat[s, ncol(dat)]\n",
    "    dim(train)\n",
    "    length( target_test)\n",
    "    dim(test)\n",
    "\n",
    "    #Aplico o modelo 1\n",
    "    fit_mlg <- glm(class ~ types + characters + average_sentence_length + percent_subjuntive_imperative_verbs\n",
    "                  + percent_modal_verbs, data = train, family = binomial(link=\"logit\"))\n",
    "\n",
    "    # coefficients\n",
    "    #coef(fit_mlg)\n",
    "    #Aplico o modelo 1\n",
    "    #fit_mlg <- glm(class ~ types + characters + percent_modal_verbs, data = train, family = binomial(link=\"logit\"))\n",
    "\n",
    "    summary(fit_mlg)\n",
    "\n",
    "\n",
    "    #Previsao dos modelos\n",
    "    predictions_mlg <- predict(fit_mlg, test, type=\"response\")\n",
    "    head(predictions_mlg )\n",
    "\n",
    "    #probabilities <- fit_mlg %>% predict(test, type = \"response\")\n",
    "    #head(probabilities)\n",
    "\n",
    "    contrasts(train$class)\n",
    "\n",
    "    predicted.classes <- ifelse(predictions_mlg  > 0.5, \"1\", \"0\")\n",
    "    head(predicted.classes)\n",
    "\n",
    "    #acuracia\n",
    "    acuracia_rate_mlg[i] <- mean(predicted.classes == test$class)\n",
    "    acuracia_rate_mlg\n",
    "\n",
    "    #taxa de errro\n",
    "    #erro_rate_mlg[i] <- 1 - acuracia_rate_mlg\n",
    "    #erro_rate_mlg\n",
    "    #length(predicted.classes)\n",
    "\n",
    "\n",
    "    #Matrizes de confusao\n",
    "    #confusion_matrices_mlg <- table(predictions_mlg, target_test)\n",
    "\n",
    "\n",
    "    #Calcula a taxa de erro dos classificadores\n",
    "    #acuracia_rate_mlg[i] <- sum(diag(confusion_matrices_mlg))/nrow(test)\n",
    "    #acuracia_rate_mlg <- sum(diag(confusion_matrices_mlg))/nrow(test)\n",
    "    #acuracia_rate_mlg\n",
    "    #error_rate_mlg <- 1 -  sum(diag(confusion_matrices_mlg))/nrow(test)\n",
    "    #print(error_rate_mlg)\n",
    "  }\n",
    "  #Armazena a taxa de erro media dos folds para cada replica\n",
    "  mean_acuracia_rate_mlg[r] <- mean(acuracia_rate_mlg)\n",
    "  #mean_erro_rate_mlg[r] <- mean(erro_rate_mlg)\n",
    "}\n",
    "\n",
    "\n",
    "#mean(mean_error_rate)\n",
    "mean(mean_acuracia_rate_mlg)\n",
    "#mean(mean_erro_rate_mlg)\n"
   ]
  }
 ],
 "metadata": {
  "kernelspec": {
   "display_name": "R",
   "language": "R",
   "name": "ir"
  },
  "language_info": {
   "codemirror_mode": "r",
   "file_extension": ".r",
   "mimetype": "text/x-r-source",
   "name": "R",
   "pygments_lexer": "r",
   "version": "3.6.1"
  }
 },
 "nbformat": 4,
 "nbformat_minor": 4
}
