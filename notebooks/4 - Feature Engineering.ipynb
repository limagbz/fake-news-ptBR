{
 "cells": [
  {
   "cell_type": "code",
   "execution_count": 1,
   "metadata": {},
   "outputs": [],
   "source": [
    "%%capture\n",
    "\n",
    "%cd ..\n",
    "%load_ext autoreload\n",
    "%autoreload 2"
   ]
  },
  {
   "cell_type": "code",
   "execution_count": 2,
   "metadata": {},
   "outputs": [],
   "source": [
    "from pathlib import Path\n",
    "import pandas as pd\n",
    "import numpy as np\n",
    "import itertools"
   ]
  },
  {
   "cell_type": "markdown",
   "metadata": {},
   "source": [
    "# Feature Engineering"
   ]
  },
  {
   "cell_type": "markdown",
   "metadata": {},
   "source": [
    "This notebook can be used for the feature engineering part described on the paper. {{TODO: }}"
   ]
  },
  {
   "cell_type": "code",
   "execution_count": 3,
   "metadata": {},
   "outputs": [],
   "source": [
    "PROCESSED_DATA_FOLDER = Path('data/processed/')\n",
    "\n",
    "data_df = pd.read_csv(PROCESSED_DATA_FOLDER/\"fake_true_news_cleaned.csv\", index_col=0)\n",
    "data_df[\"class\"] = data_df[\"class\"].astype('category')"
   ]
  },
  {
   "cell_type": "code",
   "execution_count": 4,
   "metadata": {},
   "outputs": [
    {
     "data": {
      "text/plain": [
       "Fake    3600\n",
       "True    3582\n",
       "Name: class, dtype: int64"
      ]
     },
     "execution_count": 4,
     "metadata": {},
     "output_type": "execute_result"
    }
   ],
   "source": [
    "data_df[\"class\"].value_counts()"
   ]
  },
  {
   "cell_type": "markdown",
   "metadata": {},
   "source": [
    "## Ratio Variables"
   ]
  },
  {
   "cell_type": "markdown",
   "metadata": {},
   "source": [
    "To minimize the bias related to the greater number of words on the true news we are going to use the ratio of some of the variables. "
   ]
  },
  {
   "cell_type": "code",
   "execution_count": 5,
   "metadata": {},
   "outputs": [],
   "source": [
    "def calculate_ratio(s1, s2):\n",
    "    return (s1 / s2) * 100      "
   ]
  },
  {
   "cell_type": "markdown",
   "metadata": {},
   "source": [
    "Let's create the new data"
   ]
  },
  {
   "cell_type": "code",
   "execution_count": 6,
   "metadata": {},
   "outputs": [],
   "source": [
    "data_df['percent_words_no_punctuation'] = calculate_ratio(data_df.words_no_punctuation, data_df.tokens)\n",
    "data_df['percent_adjectives'] = calculate_ratio(data_df.adjectives, data_df.tokens)\n",
    "data_df['percent_adverbs'] = calculate_ratio(data_df.adverbs, data_df.tokens)\n",
    "data_df['percent_nouns'] = calculate_ratio(data_df.nouns, data_df.tokens)\n",
    "data_df['percent_subjuntive_imperative_verbs'] = calculate_ratio(data_df.subjuntive_imperative_verbs, data_df.tokens)\n",
    "data_df['percent_links_inside'] = calculate_ratio(data_df.links_inside, data_df.tokens)\n",
    "data_df['percent_upper_words'] = calculate_ratio(data_df.upper_words, data_df.tokens)\n",
    "data_df['percent_verbs'] = calculate_ratio(data_df.verbs, data_df.tokens)\n",
    "data_df['percent_modal_verbs'] = calculate_ratio(data_df.modal_verbs, data_df.tokens)\n",
    "data_df['percent_singular_first_second_personal_pronouns'] = calculate_ratio(data_df.singular_first_second_personal_pronouns, data_df.tokens)\n",
    "data_df['percent_plural_first_personal_pronouns'] = calculate_ratio(data_df.plural_first_personal_pronouns, data_df.tokens)\n",
    "data_df['percent_pronouns'] = calculate_ratio(data_df.pronouns, data_df.tokens)\n",
    "\n",
    "data_df = data_df.drop(columns=[\n",
    "    'words_no_punctuation', 'adjectives', 'adverbs', 'nouns', 'subjuntive_imperative_verbs',\n",
    "    'links_inside', 'upper_words', 'verbs', 'modal_verbs', 'pronouns',\n",
    "    'singular_first_second_personal_pronouns', 'plural_first_personal_pronouns' \n",
    "])"
   ]
  },
  {
   "cell_type": "markdown",
   "metadata": {},
   "source": [
    "## Other Variables"
   ]
  },
  {
   "cell_type": "code",
   "execution_count": 7,
   "metadata": {},
   "outputs": [],
   "source": [
    "# TODO: Calculate other variables"
   ]
  },
  {
   "cell_type": "markdown",
   "metadata": {},
   "source": [
    "## Exporting Data"
   ]
  },
  {
   "cell_type": "code",
   "execution_count": 8,
   "metadata": {},
   "outputs": [],
   "source": [
    "PROCESSED_DATA_FOLDER = Path('data/processed/')\n",
    "data_df.to_csv(PROCESSED_DATA_FOLDER/\"fake_true_news_cleaned_features.csv\")"
   ]
  }
 ],
 "metadata": {
  "kernelspec": {
   "display_name": "Python 3",
   "language": "python",
   "name": "python3"
  },
  "language_info": {
   "codemirror_mode": {
    "name": "ipython",
    "version": 3
   },
   "file_extension": ".py",
   "mimetype": "text/x-python",
   "name": "python",
   "nbconvert_exporter": "python",
   "pygments_lexer": "ipython3",
   "version": "3.8.5"
  }
 },
 "nbformat": 4,
 "nbformat_minor": 4
}
