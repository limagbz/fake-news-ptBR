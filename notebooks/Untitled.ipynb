{
 "cells": [
  {
   "cell_type": "code",
   "execution_count": 1,
   "metadata": {},
   "outputs": [],
   "source": [
    "%%capture\n",
    "\n",
    "%cd ..\n",
    "%load_ext autoreload\n",
    "%autoreload 2"
   ]
  },
  {
   "cell_type": "code",
   "execution_count": 2,
   "metadata": {},
   "outputs": [],
   "source": [
    "import pandas as pd\n",
    "import numpy as np\n",
    "from pathlib import Path\n",
    "import seaborn as sns\n",
    "\n",
    "sns.set()\n",
    "\n",
    "pd.set_option('expand_frame_repr', True)\n",
    "pd.set_option('display.column_space', 6)\n",
    "pd.set_option('display.max_colwidth', 20)\n",
    "pd.set_option('display.max_columns', None)\n",
    "pd.set_option('display.show_dimensions', True)"
   ]
  },
  {
   "cell_type": "code",
   "execution_count": 4,
   "metadata": {},
   "outputs": [],
   "source": [
    "PROCESSED_DATA_FOLDER = Path('data/processed/')\n",
    "data_df = pd.read_csv(PROCESSED_DATA_FOLDER/\"fake_true_news_cleaned.csv\", index_col=0)\n",
    "data_df[\"class\"] = data_df[\"class\"].astype('category')"
   ]
  },
  {
   "cell_type": "code",
   "execution_count": 5,
   "metadata": {},
   "outputs": [
    {
     "data": {
      "text/plain": [
       "Index(['class', 'text', 'link', 'category', 'date_of_publication', 'tokens',\n",
       "       'words_no_punctuation', 'types', 'links_inside', 'upper_words', 'verbs',\n",
       "       'subjuntive_imperative_verbs', 'nouns', 'adjectives', 'adverbs',\n",
       "       'modal_verbs', 'singular_first_second_personal_pronouns',\n",
       "       'plural_first_personal_pronouns', 'pronouns', 'pausality', 'characters',\n",
       "       'average_sentence_length', 'average_word_lenght',\n",
       "       'percentage_spelling_errors', 'emotiveness', 'diversity'],\n",
       "      dtype='object')"
      ]
     },
     "execution_count": 5,
     "metadata": {},
     "output_type": "execute_result"
    }
   ],
   "source": [
    "data_df.columns"
   ]
  },
  {
   "cell_type": "code",
   "execution_count": null,
   "metadata": {},
   "outputs": [],
   "source": []
  }
 ],
 "metadata": {
  "kernelspec": {
   "display_name": "Python 3",
   "language": "python",
   "name": "python3"
  },
  "language_info": {
   "codemirror_mode": {
    "name": "ipython",
    "version": 3
   },
   "file_extension": ".py",
   "mimetype": "text/x-python",
   "name": "python",
   "nbconvert_exporter": "python",
   "pygments_lexer": "ipython3",
   "version": "3.8.5"
  }
 },
 "nbformat": 4,
 "nbformat_minor": 4
}
