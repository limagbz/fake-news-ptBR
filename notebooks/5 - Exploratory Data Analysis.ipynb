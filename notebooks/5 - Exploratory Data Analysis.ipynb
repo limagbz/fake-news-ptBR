{
 "cells": [
  {
   "cell_type": "code",
   "execution_count": 1,
   "metadata": {},
   "outputs": [],
   "source": [
    "%%capture\n",
    "\n",
    "%cd ..\n",
    "%load_ext autoreload\n",
    "%autoreload 2\n",
    "\n",
    "import warnings\n",
    "warnings.simplefilter(action='ignore', category=FutureWarning)"
   ]
  },
  {
   "cell_type": "code",
   "execution_count": 2,
   "metadata": {},
   "outputs": [
    {
     "name": "stderr",
     "output_type": "stream",
     "text": [
      "[nltk_data] Downloading package stopwords to\n",
      "[nltk_data]     /home/limagbz/nltk_data...\n",
      "[nltk_data]   Package stopwords is already up-to-date!\n"
     ]
    }
   ],
   "source": [
    "import itertools\n",
    "from pathlib import Path\n",
    "\n",
    "import nltk\n",
    "import numpy as np\n",
    "import pandas as pd\n",
    "import seaborn as sns\n",
    "import matplotlib.pyplot as plt\n",
    "from scipy import stats\n",
    "from heatmap import heatmap, corrplot\n",
    "from ipywidgets import interact, fixed, interact_manual\n",
    "from wordcloud import WordCloud\n",
    "\n",
    "sns.set()\n",
    "nltk.download('stopwords')\n",
    "\n",
    "pd.set_option('expand_frame_repr', True)\n",
    "pd.set_option('display.column_space', 6)\n",
    "pd.set_option('display.max_colwidth', 20)\n",
    "pd.set_option('display.max_columns', None)\n",
    "pd.set_option('display.show_dimensions', True)"
   ]
  },
  {
   "cell_type": "markdown",
   "metadata": {},
   "source": [
    "# Exploratory Data Analysis\n",
    "\n",
    "This notebook can be used to reproduce the exploratory data analysis."
   ]
  },
  {
   "cell_type": "markdown",
   "metadata": {},
   "source": [
    "## Setup"
   ]
  },
  {
   "cell_type": "code",
   "execution_count": 3,
   "metadata": {},
   "outputs": [],
   "source": [
    "PROCESSED_DATA_FOLDER = Path('data/processed/')"
   ]
  },
  {
   "cell_type": "markdown",
   "metadata": {},
   "source": [
    "## Data Loading"
   ]
  },
  {
   "cell_type": "code",
   "execution_count": 4,
   "metadata": {},
   "outputs": [],
   "source": [
    "data_df = pd.read_csv(PROCESSED_DATA_FOLDER/\"fake_true_news_cleaned_features.csv\", index_col=0)\n",
    "data_df[\"class\"] = data_df[\"class\"].astype('category')\n",
    "\n",
    "CONTINUOUS_VARIABLES = [x for x, y in data_df.dtypes.iteritems() if str(y) not in ('category', 'object')]\n",
    "CONTINUOUS_VARIABLES.remove('file_index')"
   ]
  },
  {
   "cell_type": "markdown",
   "metadata": {},
   "source": [
    "## Summary"
   ]
  },
  {
   "cell_type": "markdown",
   "metadata": {},
   "source": [
    "First, let's do a quick summary of the data for both classes"
   ]
  },
  {
   "cell_type": "code",
   "execution_count": 5,
   "metadata": {},
   "outputs": [
    {
     "data": {
      "text/html": [
       "<div>\n",
       "<style scoped>\n",
       "    .dataframe tbody tr th:only-of-type {\n",
       "        vertical-align: middle;\n",
       "    }\n",
       "\n",
       "    .dataframe tbody tr th {\n",
       "        vertical-align: top;\n",
       "    }\n",
       "\n",
       "    .dataframe thead th {\n",
       "        text-align: right;\n",
       "    }\n",
       "</style>\n",
       "<table border=\"1\" class=\"dataframe\">\n",
       "  <thead>\n",
       "    <tr style=\"text-align: right;\">\n",
       "      <th></th>\n",
       "      <th>count</th>\n",
       "      <th>mean</th>\n",
       "      <th>std</th>\n",
       "      <th>min</th>\n",
       "      <th>25%</th>\n",
       "      <th>50%</th>\n",
       "      <th>75%</th>\n",
       "      <th>max</th>\n",
       "    </tr>\n",
       "  </thead>\n",
       "  <tbody>\n",
       "    <tr>\n",
       "      <th>file_index</th>\n",
       "      <td>3582.0</td>\n",
       "      <td>1806.654662</td>\n",
       "      <td>1038.699988</td>\n",
       "      <td>1.000000</td>\n",
       "      <td>909.250000</td>\n",
       "      <td>1807.500000</td>\n",
       "      <td>2705.750000</td>\n",
       "      <td>3602.000000</td>\n",
       "    </tr>\n",
       "    <tr>\n",
       "      <th>tokens</th>\n",
       "      <td>3582.0</td>\n",
       "      <td>1270.411781</td>\n",
       "      <td>789.441222</td>\n",
       "      <td>22.000000</td>\n",
       "      <td>739.250000</td>\n",
       "      <td>1061.000000</td>\n",
       "      <td>1632.750000</td>\n",
       "      <td>8634.000000</td>\n",
       "    </tr>\n",
       "    <tr>\n",
       "      <th>pausality</th>\n",
       "      <td>3582.0</td>\n",
       "      <td>3.043254</td>\n",
       "      <td>1.294177</td>\n",
       "      <td>0.500000</td>\n",
       "      <td>2.555560</td>\n",
       "      <td>2.960365</td>\n",
       "      <td>3.416670</td>\n",
       "      <td>51.238100</td>\n",
       "    </tr>\n",
       "    <tr>\n",
       "      <th>characters</th>\n",
       "      <td>3582.0</td>\n",
       "      <td>5385.958124</td>\n",
       "      <td>3337.538868</td>\n",
       "      <td>90.000000</td>\n",
       "      <td>3119.000000</td>\n",
       "      <td>4510.500000</td>\n",
       "      <td>6946.750000</td>\n",
       "      <td>37381.000000</td>\n",
       "    </tr>\n",
       "    <tr>\n",
       "      <th>average_sentence_length</th>\n",
       "      <td>3582.0</td>\n",
       "      <td>21.149550</td>\n",
       "      <td>5.247414</td>\n",
       "      <td>5.000000</td>\n",
       "      <td>17.951200</td>\n",
       "      <td>20.581100</td>\n",
       "      <td>23.812200</td>\n",
       "      <td>110.250000</td>\n",
       "    </tr>\n",
       "    <tr>\n",
       "      <th>average_word_lenght</th>\n",
       "      <td>3582.0</td>\n",
       "      <td>4.866084</td>\n",
       "      <td>0.195067</td>\n",
       "      <td>3.950190</td>\n",
       "      <td>4.740992</td>\n",
       "      <td>4.868025</td>\n",
       "      <td>4.990342</td>\n",
       "      <td>5.750990</td>\n",
       "    </tr>\n",
       "    <tr>\n",
       "      <th>percentage_spelling_errors</th>\n",
       "      <td>3582.0</td>\n",
       "      <td>0.002276</td>\n",
       "      <td>0.005118</td>\n",
       "      <td>0.000000</td>\n",
       "      <td>0.000000</td>\n",
       "      <td>0.001267</td>\n",
       "      <td>0.002874</td>\n",
       "      <td>0.231151</td>\n",
       "    </tr>\n",
       "    <tr>\n",
       "      <th>emotiveness</th>\n",
       "      <td>3582.0</td>\n",
       "      <td>0.213868</td>\n",
       "      <td>0.060421</td>\n",
       "      <td>0.035088</td>\n",
       "      <td>0.170166</td>\n",
       "      <td>0.206452</td>\n",
       "      <td>0.250389</td>\n",
       "      <td>0.590258</td>\n",
       "    </tr>\n",
       "    <tr>\n",
       "      <th>diversity</th>\n",
       "      <td>3582.0</td>\n",
       "      <td>0.474077</td>\n",
       "      <td>0.071204</td>\n",
       "      <td>0.000000</td>\n",
       "      <td>0.429882</td>\n",
       "      <td>0.471530</td>\n",
       "      <td>0.517388</td>\n",
       "      <td>0.900000</td>\n",
       "    </tr>\n",
       "    <tr>\n",
       "      <th>percent_types</th>\n",
       "      <td>3582.0</td>\n",
       "      <td>41.528992</td>\n",
       "      <td>6.022568</td>\n",
       "      <td>14.123007</td>\n",
       "      <td>37.551370</td>\n",
       "      <td>41.201093</td>\n",
       "      <td>45.097016</td>\n",
       "      <td>86.363636</td>\n",
       "    </tr>\n",
       "    <tr>\n",
       "      <th>percent_words_no_punctuation</th>\n",
       "      <td>3582.0</td>\n",
       "      <td>87.327071</td>\n",
       "      <td>2.282951</td>\n",
       "      <td>60.820046</td>\n",
       "      <td>86.027699</td>\n",
       "      <td>87.407200</td>\n",
       "      <td>88.801173</td>\n",
       "      <td>96.803653</td>\n",
       "    </tr>\n",
       "    <tr>\n",
       "      <th>percent_adjectives</th>\n",
       "      <td>3582.0</td>\n",
       "      <td>4.358611</td>\n",
       "      <td>1.434581</td>\n",
       "      <td>0.000000</td>\n",
       "      <td>3.371113</td>\n",
       "      <td>4.197054</td>\n",
       "      <td>5.263158</td>\n",
       "      <td>11.481056</td>\n",
       "    </tr>\n",
       "    <tr>\n",
       "      <th>percent_adverbs</th>\n",
       "      <td>3582.0</td>\n",
       "      <td>3.775779</td>\n",
       "      <td>1.294939</td>\n",
       "      <td>0.000000</td>\n",
       "      <td>2.858031</td>\n",
       "      <td>3.676598</td>\n",
       "      <td>4.548508</td>\n",
       "      <td>9.915254</td>\n",
       "    </tr>\n",
       "    <tr>\n",
       "      <th>percent_nouns</th>\n",
       "      <td>3582.0</td>\n",
       "      <td>25.064836</td>\n",
       "      <td>2.521223</td>\n",
       "      <td>12.934132</td>\n",
       "      <td>23.523541</td>\n",
       "      <td>25.248146</td>\n",
       "      <td>26.726571</td>\n",
       "      <td>37.057486</td>\n",
       "    </tr>\n",
       "    <tr>\n",
       "      <th>percent_subjuntive_imperative_verbs</th>\n",
       "      <td>3582.0</td>\n",
       "      <td>0.528225</td>\n",
       "      <td>0.377056</td>\n",
       "      <td>0.000000</td>\n",
       "      <td>0.273692</td>\n",
       "      <td>0.468505</td>\n",
       "      <td>0.715180</td>\n",
       "      <td>4.545455</td>\n",
       "    </tr>\n",
       "    <tr>\n",
       "      <th>percent_upper_words</th>\n",
       "      <td>3582.0</td>\n",
       "      <td>0.999727</td>\n",
       "      <td>0.837733</td>\n",
       "      <td>0.000000</td>\n",
       "      <td>0.447320</td>\n",
       "      <td>0.841515</td>\n",
       "      <td>1.343248</td>\n",
       "      <td>22.727273</td>\n",
       "    </tr>\n",
       "    <tr>\n",
       "      <th>percent_verbs</th>\n",
       "      <td>3582.0</td>\n",
       "      <td>13.284431</td>\n",
       "      <td>2.294493</td>\n",
       "      <td>1.656382</td>\n",
       "      <td>11.805743</td>\n",
       "      <td>13.123696</td>\n",
       "      <td>14.645070</td>\n",
       "      <td>22.014450</td>\n",
       "    </tr>\n",
       "    <tr>\n",
       "      <th>percent_modal_verbs</th>\n",
       "      <td>3582.0</td>\n",
       "      <td>1.849617</td>\n",
       "      <td>0.703397</td>\n",
       "      <td>0.000000</td>\n",
       "      <td>1.380898</td>\n",
       "      <td>1.779708</td>\n",
       "      <td>2.245917</td>\n",
       "      <td>6.451613</td>\n",
       "    </tr>\n",
       "    <tr>\n",
       "      <th>percent_singular_first_second_personal_pronouns</th>\n",
       "      <td>3582.0</td>\n",
       "      <td>0.202983</td>\n",
       "      <td>0.426397</td>\n",
       "      <td>0.000000</td>\n",
       "      <td>0.000000</td>\n",
       "      <td>0.000000</td>\n",
       "      <td>0.217914</td>\n",
       "      <td>5.452675</td>\n",
       "    </tr>\n",
       "    <tr>\n",
       "      <th>percent_plural_first_personal_pronouns</th>\n",
       "      <td>3582.0</td>\n",
       "      <td>0.060151</td>\n",
       "      <td>0.132285</td>\n",
       "      <td>0.000000</td>\n",
       "      <td>0.000000</td>\n",
       "      <td>0.000000</td>\n",
       "      <td>0.078401</td>\n",
       "      <td>2.254697</td>\n",
       "    </tr>\n",
       "    <tr>\n",
       "      <th>percent_pronouns</th>\n",
       "      <td>3582.0</td>\n",
       "      <td>4.821919</td>\n",
       "      <td>1.983195</td>\n",
       "      <td>0.000000</td>\n",
       "      <td>3.435638</td>\n",
       "      <td>4.477429</td>\n",
       "      <td>5.898163</td>\n",
       "      <td>17.245509</td>\n",
       "    </tr>\n",
       "  </tbody>\n",
       "</table>\n",
       "<p>21 rows × 8 columns</p>\n",
       "</div>"
      ],
      "text/plain": [
       "                       count         mean          std        min  \\\n",
       "file_index            3582.0  1806.654662  1038.699988   1.000000   \n",
       "tokens                3582.0  1270.411781   789.441222  22.000000   \n",
       "pausality             3582.0     3.043254     1.294177   0.500000   \n",
       "characters            3582.0  5385.958124  3337.538868  90.000000   \n",
       "average_sentence_...  3582.0    21.149550     5.247414   5.000000   \n",
       "average_word_lenght   3582.0     4.866084     0.195067   3.950190   \n",
       "percentage_spelli...  3582.0     0.002276     0.005118   0.000000   \n",
       "emotiveness           3582.0     0.213868     0.060421   0.035088   \n",
       "diversity             3582.0     0.474077     0.071204   0.000000   \n",
       "percent_types         3582.0    41.528992     6.022568  14.123007   \n",
       "percent_words_no_...  3582.0    87.327071     2.282951  60.820046   \n",
       "percent_adjectives    3582.0     4.358611     1.434581   0.000000   \n",
       "percent_adverbs       3582.0     3.775779     1.294939   0.000000   \n",
       "percent_nouns         3582.0    25.064836     2.521223  12.934132   \n",
       "percent_subjuntiv...  3582.0     0.528225     0.377056   0.000000   \n",
       "percent_upper_words   3582.0     0.999727     0.837733   0.000000   \n",
       "percent_verbs         3582.0    13.284431     2.294493   1.656382   \n",
       "percent_modal_verbs   3582.0     1.849617     0.703397   0.000000   \n",
       "percent_singular_...  3582.0     0.202983     0.426397   0.000000   \n",
       "percent_plural_fi...  3582.0     0.060151     0.132285   0.000000   \n",
       "percent_pronouns      3582.0     4.821919     1.983195   0.000000   \n",
       "\n",
       "                              25%          50%          75%           max  \n",
       "file_index             909.250000  1807.500000  2705.750000   3602.000000  \n",
       "tokens                 739.250000  1061.000000  1632.750000   8634.000000  \n",
       "pausality                2.555560     2.960365     3.416670     51.238100  \n",
       "characters            3119.000000  4510.500000  6946.750000  37381.000000  \n",
       "average_sentence_...    17.951200    20.581100    23.812200    110.250000  \n",
       "average_word_lenght      4.740992     4.868025     4.990342      5.750990  \n",
       "percentage_spelli...     0.000000     0.001267     0.002874      0.231151  \n",
       "emotiveness              0.170166     0.206452     0.250389      0.590258  \n",
       "diversity                0.429882     0.471530     0.517388      0.900000  \n",
       "percent_types           37.551370    41.201093    45.097016     86.363636  \n",
       "percent_words_no_...    86.027699    87.407200    88.801173     96.803653  \n",
       "percent_adjectives       3.371113     4.197054     5.263158     11.481056  \n",
       "percent_adverbs          2.858031     3.676598     4.548508      9.915254  \n",
       "percent_nouns           23.523541    25.248146    26.726571     37.057486  \n",
       "percent_subjuntiv...     0.273692     0.468505     0.715180      4.545455  \n",
       "percent_upper_words      0.447320     0.841515     1.343248     22.727273  \n",
       "percent_verbs           11.805743    13.123696    14.645070     22.014450  \n",
       "percent_modal_verbs      1.380898     1.779708     2.245917      6.451613  \n",
       "percent_singular_...     0.000000     0.000000     0.217914      5.452675  \n",
       "percent_plural_fi...     0.000000     0.000000     0.078401      2.254697  \n",
       "percent_pronouns         3.435638     4.477429     5.898163     17.245509  \n",
       "\n",
       "[21 rows x 8 columns]"
      ]
     },
     "execution_count": 5,
     "metadata": {},
     "output_type": "execute_result"
    }
   ],
   "source": [
    "data_df[data_df['class'] == 'True'].describe().T"
   ]
  },
  {
   "cell_type": "code",
   "execution_count": 6,
   "metadata": {},
   "outputs": [
    {
     "data": {
      "text/html": [
       "<div>\n",
       "<style scoped>\n",
       "    .dataframe tbody tr th:only-of-type {\n",
       "        vertical-align: middle;\n",
       "    }\n",
       "\n",
       "    .dataframe tbody tr th {\n",
       "        vertical-align: top;\n",
       "    }\n",
       "\n",
       "    .dataframe thead th {\n",
       "        text-align: right;\n",
       "    }\n",
       "</style>\n",
       "<table border=\"1\" class=\"dataframe\">\n",
       "  <thead>\n",
       "    <tr style=\"text-align: right;\">\n",
       "      <th></th>\n",
       "      <th>count</th>\n",
       "      <th>mean</th>\n",
       "      <th>std</th>\n",
       "      <th>min</th>\n",
       "      <th>25%</th>\n",
       "      <th>50%</th>\n",
       "      <th>75%</th>\n",
       "      <th>max</th>\n",
       "    </tr>\n",
       "  </thead>\n",
       "  <tbody>\n",
       "    <tr>\n",
       "      <th>file_index</th>\n",
       "      <td>3600.0</td>\n",
       "      <td>1801.899444</td>\n",
       "      <td>1040.063208</td>\n",
       "      <td>1.000000</td>\n",
       "      <td>901.750000</td>\n",
       "      <td>1802.500000</td>\n",
       "      <td>2702.250000</td>\n",
       "      <td>3602.000000</td>\n",
       "    </tr>\n",
       "    <tr>\n",
       "      <th>tokens</th>\n",
       "      <td>3600.0</td>\n",
       "      <td>216.236667</td>\n",
       "      <td>147.300962</td>\n",
       "      <td>11.000000</td>\n",
       "      <td>135.000000</td>\n",
       "      <td>185.000000</td>\n",
       "      <td>261.000000</td>\n",
       "      <td>2625.000000</td>\n",
       "    </tr>\n",
       "    <tr>\n",
       "      <th>pausality</th>\n",
       "      <td>3600.0</td>\n",
       "      <td>2.468517</td>\n",
       "      <td>0.911004</td>\n",
       "      <td>0.250000</td>\n",
       "      <td>1.888890</td>\n",
       "      <td>2.339740</td>\n",
       "      <td>2.900000</td>\n",
       "      <td>12.200000</td>\n",
       "    </tr>\n",
       "    <tr>\n",
       "      <th>characters</th>\n",
       "      <td>3600.0</td>\n",
       "      <td>896.441944</td>\n",
       "      <td>615.194546</td>\n",
       "      <td>34.000000</td>\n",
       "      <td>553.000000</td>\n",
       "      <td>759.000000</td>\n",
       "      <td>1078.250000</td>\n",
       "      <td>10610.000000</td>\n",
       "    </tr>\n",
       "    <tr>\n",
       "      <th>average_sentence_length</th>\n",
       "      <td>3600.0</td>\n",
       "      <td>15.307048</td>\n",
       "      <td>5.444366</td>\n",
       "      <td>2.666670</td>\n",
       "      <td>11.555600</td>\n",
       "      <td>15.000000</td>\n",
       "      <td>18.333300</td>\n",
       "      <td>78.333300</td>\n",
       "    </tr>\n",
       "    <tr>\n",
       "      <th>average_word_lenght</th>\n",
       "      <td>3600.0</td>\n",
       "      <td>4.824780</td>\n",
       "      <td>0.286985</td>\n",
       "      <td>3.615940</td>\n",
       "      <td>4.642860</td>\n",
       "      <td>4.813740</td>\n",
       "      <td>5.002377</td>\n",
       "      <td>5.935780</td>\n",
       "    </tr>\n",
       "    <tr>\n",
       "      <th>percentage_spelling_errors</th>\n",
       "      <td>3600.0</td>\n",
       "      <td>0.003859</td>\n",
       "      <td>0.009681</td>\n",
       "      <td>0.000000</td>\n",
       "      <td>0.000000</td>\n",
       "      <td>0.000000</td>\n",
       "      <td>0.005780</td>\n",
       "      <td>0.382353</td>\n",
       "    </tr>\n",
       "    <tr>\n",
       "      <th>emotiveness</th>\n",
       "      <td>3600.0</td>\n",
       "      <td>0.205708</td>\n",
       "      <td>0.078667</td>\n",
       "      <td>0.000000</td>\n",
       "      <td>0.151515</td>\n",
       "      <td>0.200000</td>\n",
       "      <td>0.253086</td>\n",
       "      <td>0.750000</td>\n",
       "    </tr>\n",
       "    <tr>\n",
       "      <th>diversity</th>\n",
       "      <td>3600.0</td>\n",
       "      <td>0.668729</td>\n",
       "      <td>0.112169</td>\n",
       "      <td>0.000000</td>\n",
       "      <td>0.625790</td>\n",
       "      <td>0.673410</td>\n",
       "      <td>0.720000</td>\n",
       "      <td>1.000000</td>\n",
       "    </tr>\n",
       "    <tr>\n",
       "      <th>percent_types</th>\n",
       "      <td>3600.0</td>\n",
       "      <td>58.194289</td>\n",
       "      <td>6.707981</td>\n",
       "      <td>29.971182</td>\n",
       "      <td>53.903389</td>\n",
       "      <td>57.746479</td>\n",
       "      <td>62.174476</td>\n",
       "      <td>90.000000</td>\n",
       "    </tr>\n",
       "    <tr>\n",
       "      <th>percent_words_no_punctuation</th>\n",
       "      <td>3600.0</td>\n",
       "      <td>85.659825</td>\n",
       "      <td>3.819636</td>\n",
       "      <td>58.823529</td>\n",
       "      <td>83.382451</td>\n",
       "      <td>85.921454</td>\n",
       "      <td>88.255694</td>\n",
       "      <td>97.872340</td>\n",
       "    </tr>\n",
       "    <tr>\n",
       "      <th>percent_adjectives</th>\n",
       "      <td>3600.0</td>\n",
       "      <td>4.137792</td>\n",
       "      <td>1.980075</td>\n",
       "      <td>0.000000</td>\n",
       "      <td>2.749141</td>\n",
       "      <td>3.962577</td>\n",
       "      <td>5.343511</td>\n",
       "      <td>14.285714</td>\n",
       "    </tr>\n",
       "    <tr>\n",
       "      <th>percent_adverbs</th>\n",
       "      <td>3600.0</td>\n",
       "      <td>3.877728</td>\n",
       "      <td>1.901076</td>\n",
       "      <td>0.000000</td>\n",
       "      <td>2.597403</td>\n",
       "      <td>3.703704</td>\n",
       "      <td>5.000000</td>\n",
       "      <td>13.402062</td>\n",
       "    </tr>\n",
       "    <tr>\n",
       "      <th>percent_nouns</th>\n",
       "      <td>3600.0</td>\n",
       "      <td>25.118248</td>\n",
       "      <td>3.395632</td>\n",
       "      <td>13.402062</td>\n",
       "      <td>22.890068</td>\n",
       "      <td>25.157730</td>\n",
       "      <td>27.313850</td>\n",
       "      <td>45.454545</td>\n",
       "    </tr>\n",
       "    <tr>\n",
       "      <th>percent_subjuntive_imperative_verbs</th>\n",
       "      <td>3600.0</td>\n",
       "      <td>0.636584</td>\n",
       "      <td>0.799407</td>\n",
       "      <td>0.000000</td>\n",
       "      <td>0.000000</td>\n",
       "      <td>0.477708</td>\n",
       "      <td>0.952381</td>\n",
       "      <td>10.204082</td>\n",
       "    </tr>\n",
       "    <tr>\n",
       "      <th>percent_upper_words</th>\n",
       "      <td>3600.0</td>\n",
       "      <td>1.753884</td>\n",
       "      <td>1.842620</td>\n",
       "      <td>0.000000</td>\n",
       "      <td>0.562985</td>\n",
       "      <td>1.351351</td>\n",
       "      <td>2.463054</td>\n",
       "      <td>24.719101</td>\n",
       "    </tr>\n",
       "    <tr>\n",
       "      <th>percent_verbs</th>\n",
       "      <td>3600.0</td>\n",
       "      <td>14.506453</td>\n",
       "      <td>3.055295</td>\n",
       "      <td>3.738318</td>\n",
       "      <td>12.500000</td>\n",
       "      <td>14.440044</td>\n",
       "      <td>16.386496</td>\n",
       "      <td>29.629630</td>\n",
       "    </tr>\n",
       "    <tr>\n",
       "      <th>percent_modal_verbs</th>\n",
       "      <td>3600.0</td>\n",
       "      <td>2.060643</td>\n",
       "      <td>1.335201</td>\n",
       "      <td>0.000000</td>\n",
       "      <td>1.136364</td>\n",
       "      <td>1.886792</td>\n",
       "      <td>2.798626</td>\n",
       "      <td>14.285714</td>\n",
       "    </tr>\n",
       "    <tr>\n",
       "      <th>percent_singular_first_second_personal_pronouns</th>\n",
       "      <td>3600.0</td>\n",
       "      <td>0.208859</td>\n",
       "      <td>0.565701</td>\n",
       "      <td>0.000000</td>\n",
       "      <td>0.000000</td>\n",
       "      <td>0.000000</td>\n",
       "      <td>0.000000</td>\n",
       "      <td>7.216495</td>\n",
       "    </tr>\n",
       "    <tr>\n",
       "      <th>percent_plural_first_personal_pronouns</th>\n",
       "      <td>3600.0</td>\n",
       "      <td>0.054549</td>\n",
       "      <td>0.240268</td>\n",
       "      <td>0.000000</td>\n",
       "      <td>0.000000</td>\n",
       "      <td>0.000000</td>\n",
       "      <td>0.000000</td>\n",
       "      <td>5.000000</td>\n",
       "    </tr>\n",
       "    <tr>\n",
       "      <th>percent_pronouns</th>\n",
       "      <td>3600.0</td>\n",
       "      <td>4.823526</td>\n",
       "      <td>2.564985</td>\n",
       "      <td>0.000000</td>\n",
       "      <td>3.008824</td>\n",
       "      <td>4.504505</td>\n",
       "      <td>6.268005</td>\n",
       "      <td>24.630542</td>\n",
       "    </tr>\n",
       "  </tbody>\n",
       "</table>\n",
       "<p>21 rows × 8 columns</p>\n",
       "</div>"
      ],
      "text/plain": [
       "                       count         mean          std        min         25%  \\\n",
       "file_index            3600.0  1801.899444  1040.063208   1.000000  901.750000   \n",
       "tokens                3600.0   216.236667   147.300962  11.000000  135.000000   \n",
       "pausality             3600.0     2.468517     0.911004   0.250000    1.888890   \n",
       "characters            3600.0   896.441944   615.194546  34.000000  553.000000   \n",
       "average_sentence_...  3600.0    15.307048     5.444366   2.666670   11.555600   \n",
       "average_word_lenght   3600.0     4.824780     0.286985   3.615940    4.642860   \n",
       "percentage_spelli...  3600.0     0.003859     0.009681   0.000000    0.000000   \n",
       "emotiveness           3600.0     0.205708     0.078667   0.000000    0.151515   \n",
       "diversity             3600.0     0.668729     0.112169   0.000000    0.625790   \n",
       "percent_types         3600.0    58.194289     6.707981  29.971182   53.903389   \n",
       "percent_words_no_...  3600.0    85.659825     3.819636  58.823529   83.382451   \n",
       "percent_adjectives    3600.0     4.137792     1.980075   0.000000    2.749141   \n",
       "percent_adverbs       3600.0     3.877728     1.901076   0.000000    2.597403   \n",
       "percent_nouns         3600.0    25.118248     3.395632  13.402062   22.890068   \n",
       "percent_subjuntiv...  3600.0     0.636584     0.799407   0.000000    0.000000   \n",
       "percent_upper_words   3600.0     1.753884     1.842620   0.000000    0.562985   \n",
       "percent_verbs         3600.0    14.506453     3.055295   3.738318   12.500000   \n",
       "percent_modal_verbs   3600.0     2.060643     1.335201   0.000000    1.136364   \n",
       "percent_singular_...  3600.0     0.208859     0.565701   0.000000    0.000000   \n",
       "percent_plural_fi...  3600.0     0.054549     0.240268   0.000000    0.000000   \n",
       "percent_pronouns      3600.0     4.823526     2.564985   0.000000    3.008824   \n",
       "\n",
       "                              50%          75%           max  \n",
       "file_index            1802.500000  2702.250000   3602.000000  \n",
       "tokens                 185.000000   261.000000   2625.000000  \n",
       "pausality                2.339740     2.900000     12.200000  \n",
       "characters             759.000000  1078.250000  10610.000000  \n",
       "average_sentence_...    15.000000    18.333300     78.333300  \n",
       "average_word_lenght      4.813740     5.002377      5.935780  \n",
       "percentage_spelli...     0.000000     0.005780      0.382353  \n",
       "emotiveness              0.200000     0.253086      0.750000  \n",
       "diversity                0.673410     0.720000      1.000000  \n",
       "percent_types           57.746479    62.174476     90.000000  \n",
       "percent_words_no_...    85.921454    88.255694     97.872340  \n",
       "percent_adjectives       3.962577     5.343511     14.285714  \n",
       "percent_adverbs          3.703704     5.000000     13.402062  \n",
       "percent_nouns           25.157730    27.313850     45.454545  \n",
       "percent_subjuntiv...     0.477708     0.952381     10.204082  \n",
       "percent_upper_words      1.351351     2.463054     24.719101  \n",
       "percent_verbs           14.440044    16.386496     29.629630  \n",
       "percent_modal_verbs      1.886792     2.798626     14.285714  \n",
       "percent_singular_...     0.000000     0.000000      7.216495  \n",
       "percent_plural_fi...     0.000000     0.000000      5.000000  \n",
       "percent_pronouns         4.504505     6.268005     24.630542  \n",
       "\n",
       "[21 rows x 8 columns]"
      ]
     },
     "execution_count": 6,
     "metadata": {},
     "output_type": "execute_result"
    }
   ],
   "source": [
    "data_df[data_df['class'] == 'Fake'].describe().T"
   ]
  },
  {
   "cell_type": "markdown",
   "metadata": {},
   "source": [
    "## Correlation Analysis"
   ]
  },
  {
   "cell_type": "markdown",
   "metadata": {},
   "source": [
    "First, let's define the functions that we are going to use to do the correlation analysis. They are the correlation matrix and the joint plot graphs. We are also going to see the top correlations. They are defined below:"
   ]
  },
  {
   "cell_type": "markdown",
   "metadata": {},
   "source": [
    "### Functions Definitions"
   ]
  },
  {
   "cell_type": "code",
   "execution_count": 7,
   "metadata": {},
   "outputs": [],
   "source": [
    "def correlation_matrix(df, method='spearman', filter_variables=[], class_name='all'):\n",
    "    fig = plt.figure(figsize=(10, 10))\n",
    "    \n",
    "    if class_name != 'all':\n",
    "        data = df[df['class'] == class_name][filter_variables]\n",
    "    else:\n",
    "        data = df[filter_variables]\n",
    "    \n",
    "    corrplot(data.corr(method=method), size_scale=250, marker='o')\n",
    "    fig.axes[0].tick_params(axis=\"x\", labelsize=10)\n",
    "    fig.axes[0].tick_params(axis=\"y\", labelsize=10)\n",
    "    fig.axes[1].tick_params(axis=\"x\", labelsize=10)\n",
    "    fig.axes[1].tick_params(axis=\"x\", labelsize=10)\n",
    "    \n",
    "    return fig\n",
    "\n",
    "def get_top_abs_correlations(df, method=\"spearman\"):\n",
    "    \n",
    "    # Drop redundant pairs of columns\n",
    "    pairs_to_drop = set()\n",
    "    cols = df.columns\n",
    "    for i in range(0, df.shape[1]):\n",
    "        for j in range(0, i+1):\n",
    "            pairs_to_drop.add((cols[i], cols[j]))\n",
    "    \n",
    "    # Calculate Correlation\n",
    "    au_corr = df.corr(method=method).unstack()\n",
    "    au_corr = au_corr.drop(labels=pairs_to_drop)\n",
    "    \n",
    "    return au_corr\n",
    "\n",
    "def correlation_data_table(df, n_variables=12, class_name='all', filter_variables=[]):\n",
    "    \n",
    "    if class_name != 'all':\n",
    "        data = df[df['class'] == class_name][filter_variables]\n",
    "    else:\n",
    "        data = df[filter_variables]\n",
    "    \n",
    "    correlation_data = get_top_abs_correlations(data[filter_variables])\n",
    "    top_pos_corr = correlation_data[correlation_data >= 0].sort_values(ascending=False)[0:n_variables]\n",
    "    top_neg_corr = correlation_data[correlation_data <= 0].sort_values(ascending=True)[0:n_variables]\n",
    "\n",
    "    t = pd.DataFrame(pd.concat([top_pos_corr, top_neg_corr], keys=['positive', 'negative']))\n",
    "    t = t.rename(columns={0: \"ρ\"})\n",
    "    s = t.style\n",
    "    s = s.bar(subset=[\"ρ\"], align='mid', color=['#d65f5f', '#5fba7d'])\n",
    "    \n",
    "    return s\n",
    "\n",
    "def continuous_jointplot(df, variable_x, variable_y, kwargs={}):\n",
    "    sns_plot = sns.jointplot(x=variable_x, y=variable_y, data=df, hue='class', **kwargs)\n",
    "    return sns_plot"
   ]
  },
  {
   "cell_type": "markdown",
   "metadata": {},
   "source": [
    "### Analysis"
   ]
  },
  {
   "cell_type": "markdown",
   "metadata": {},
   "source": [
    "First, let's take a look at the correlation matrix"
   ]
  },
  {
   "cell_type": "code",
   "execution_count": 8,
   "metadata": {},
   "outputs": [
    {
     "data": {
      "application/vnd.jupyter.widget-view+json": {
       "model_id": "b68d2d401ffd45938102beb68fab681d",
       "version_major": 2,
       "version_minor": 0
      },
      "text/plain": [
       "interactive(children=(Dropdown(description='class_name', options=('all', 'True', 'Fake'), value='all'), Button…"
      ]
     },
     "metadata": {},
     "output_type": "display_data"
    },
    {
     "data": {
      "text/plain": [
       "<function __main__.correlation_matrix(df, method='spearman', filter_variables=[], class_name='all')>"
      ]
     },
     "execution_count": 8,
     "metadata": {},
     "output_type": "execute_result"
    }
   ],
   "source": [
    "interact_manual(correlation_matrix, class_name=['all', 'True', 'Fake'], df=fixed(data_df), method=fixed('spearman'), filter_variables=fixed(CONTINUOUS_VARIABLES))"
   ]
  },
  {
   "cell_type": "markdown",
   "metadata": {},
   "source": [
    "We can also see the values of the correlations"
   ]
  },
  {
   "cell_type": "code",
   "execution_count": 9,
   "metadata": {},
   "outputs": [
    {
     "data": {
      "application/vnd.jupyter.widget-view+json": {
       "model_id": "1d123f13b6c54a748ba37aa034565d25",
       "version_major": 2,
       "version_minor": 0
      },
      "text/plain": [
       "interactive(children=(IntSlider(value=12, description='n_variables', max=36, min=-12), Dropdown(description='c…"
      ]
     },
     "metadata": {},
     "output_type": "display_data"
    },
    {
     "data": {
      "text/plain": [
       "<function __main__.correlation_data_table(df, n_variables=12, class_name='all', filter_variables=[])>"
      ]
     },
     "execution_count": 9,
     "metadata": {},
     "output_type": "execute_result"
    }
   ],
   "source": [
    "interact_manual(correlation_data_table, class_name=['all', 'True', 'Fake'], df=fixed(data_df), filter_variables=fixed(CONTINUOUS_VARIABLES))"
   ]
  },
  {
   "cell_type": "markdown",
   "metadata": {},
   "source": [
    "Finally, we can take a look at the joint plots"
   ]
  },
  {
   "cell_type": "code",
   "execution_count": 10,
   "metadata": {},
   "outputs": [
    {
     "data": {
      "application/vnd.jupyter.widget-view+json": {
       "model_id": "0f909025a3114c5b85776b6e1ed1f88b",
       "version_major": 2,
       "version_minor": 0
      },
      "text/plain": [
       "interactive(children=(Dropdown(description='variable_x', options=('tokens', 'pausality', 'characters', 'averag…"
      ]
     },
     "metadata": {},
     "output_type": "display_data"
    },
    {
     "data": {
      "text/plain": [
       "<function __main__.continuous_jointplot(df, variable_x, variable_y, kwargs={})>"
      ]
     },
     "execution_count": 10,
     "metadata": {},
     "output_type": "execute_result"
    }
   ],
   "source": [
    "interact_manual(\n",
    "    continuous_jointplot, variable_x=CONTINUOUS_VARIABLES, variable_y=CONTINUOUS_VARIABLES, \n",
    "    df=fixed(data_df), kwargs=fixed({}),\n",
    ")"
   ]
  },
  {
   "cell_type": "markdown",
   "metadata": {},
   "source": [
    "### Conclusions"
   ]
  },
  {
   "cell_type": "markdown",
   "metadata": {},
   "source": []
  },
  {
   "cell_type": "markdown",
   "metadata": {},
   "source": [
    "## Distribution"
   ]
  },
  {
   "cell_type": "markdown",
   "metadata": {},
   "source": [
    "Now let's compare the distributions for both classes."
   ]
  },
  {
   "cell_type": "code",
   "execution_count": 11,
   "metadata": {},
   "outputs": [],
   "source": [
    "def continuous_univariate_plots(df, variable, jitter, hue='class', figsize=(30,5)):\n",
    "\n",
    "    # Preparing Data\n",
    "    df[\"all\"] = \"\"\n",
    "    \n",
    "    # Setup Figure\n",
    "    N_ROWS, N_COLUMNS = 2, 4\n",
    "    fig = plt.figure(figsize=figsize)\n",
    "    fig.suptitle(f'{variable} (n={len(df)})')\n",
    "    \n",
    "    ax1 = plt.subplot2grid((N_ROWS, N_COLUMNS), (0, 0), colspan=1)\n",
    "    ax2 = plt.subplot2grid((N_ROWS, N_COLUMNS), (0, 1), colspan=1)\n",
    "    ax3 = plt.subplot2grid((N_ROWS, N_COLUMNS), (0, 2), colspan=1)\n",
    "    ax4 = plt.subplot2grid((N_ROWS, N_COLUMNS), (0, 3), colspan=1)\n",
    "    ax5 = plt.subplot2grid((N_ROWS, N_COLUMNS), (1, 0), colspan=2)\n",
    "    ax6 = plt.subplot2grid((N_ROWS, N_COLUMNS), (1, 2), colspan=2)\n",
    "    \n",
    "    # Plots: Distribution plot\n",
    "    mean, mode, median = df[variable].mean(), df[variable].mode()[0], df[variable].median()\n",
    "    sns.histplot(x=variable, hue=hue, data=df, ax=ax1)\n",
    "    ax1.axvline(mean, color='r', linestyle='--')\n",
    "    ax1.axvline(mode, color='g', linestyle='-')\n",
    "    ax1.axvline(median, color='y', linestyle='-')\n",
    "    ax1.legend({'Mean': mean, 'Median': median, 'Mode': mode})\n",
    "    ax1.set_title(\"Distribution Plot (skew=%.2f, kurt=%.2f)\" %(df[variable].skew(), df[variable].kurtosis()))\n",
    "    \n",
    "    # Plots: Violin & Jitter \n",
    "    sns.violinplot(x=variable, y=\"all\", hue=hue, data=df, cut=True, split=True, vars=df.columns, ax=ax2)\n",
    "    if jitter == \"strip\": \n",
    "        sns.stripplot(x=variable, y=\"all\", data=df, hue=hue, ax=ax2, alpha=.25)\n",
    "    elif jitter == \"swarm\":\n",
    "        sns.swarmplot(x=variable, y=\"all\", data=df, hue=hue, ax=ax2, alpha=.25)\n",
    "    ax2.set_title(\"Violin Plot\")\n",
    "    ax2.set_ylabel(\"\")\n",
    "    \n",
    "    # Plots: Boxplot\n",
    "    sns.boxplot(x=variable, y='all', data=df, ax=ax3, hue=hue)\n",
    "    ax3.set_title(\"Box-and-Whisker Plot\")\n",
    "    \n",
    "    # Plots: Boxen Plot\n",
    "    sns.boxenplot(x=variable, y='all', data=df, showfliers=True, hue=hue, ax=ax4)\n",
    "    ax4.set_title(\"Boxen Plot\")\n",
    "    \n",
    "    # Plots: Probability Plot\n",
    "    stats.probplot(df[variable], dist='norm', fit=True, plot=ax5)\n",
    "    ax5.set_title(\"Probability Plot\")\n",
    "    \n",
    "    # Plots: Index Plot\n",
    "    ax6.plot(df[variable], \".\")\n",
    "    ax6.set_title(\"Index Plot\")\n",
    "    ax6.set_xlabel(\"Row Index\")\n",
    "    ax6.set_ylabel(\"Value\")\n",
    "    \n",
    "    # Remove Modifications on Data\n",
    "    df = df.drop(columns=['all'])\n",
    "    \n",
    "    # Show Plot\n",
    "    plt.show()"
   ]
  },
  {
   "cell_type": "code",
   "execution_count": 12,
   "metadata": {},
   "outputs": [
    {
     "data": {
      "application/vnd.jupyter.widget-view+json": {
       "model_id": "e4d84c6876634bf89a498b75824dd57f",
       "version_major": 2,
       "version_minor": 0
      },
      "text/plain": [
       "interactive(children=(Dropdown(description='variable', options=('tokens', 'pausality', 'characters', 'average_…"
      ]
     },
     "metadata": {},
     "output_type": "display_data"
    },
    {
     "data": {
      "text/plain": [
       "<function __main__.continuous_univariate_plots(df, variable, jitter, hue='class', figsize=(30, 5))>"
      ]
     },
     "execution_count": 12,
     "metadata": {},
     "output_type": "execute_result"
    }
   ],
   "source": [
    "interact_manual(\n",
    "    continuous_univariate_plots, \n",
    "    variable=CONTINUOUS_VARIABLES, \n",
    "    jitter=[None, \"strip\", \"swarm\"], \n",
    "    hue=[None] + list(data_df.columns) ,\n",
    "    df=fixed(data_df), \n",
    "    figsize=fixed((25,12))\n",
    ")"
   ]
  },
  {
   "cell_type": "markdown",
   "metadata": {},
   "source": [
    "### Conclusions"
   ]
  },
  {
   "cell_type": "markdown",
   "metadata": {},
   "source": []
  },
  {
   "cell_type": "markdown",
   "metadata": {},
   "source": [
    "## Word Cloud"
   ]
  },
  {
   "cell_type": "markdown",
   "metadata": {},
   "source": [
    "First, let's tokenize the corpus"
   ]
  },
  {
   "cell_type": "code",
   "execution_count": 13,
   "metadata": {},
   "outputs": [],
   "source": [
    "list_of_words_fake = ' '.join(list(data_df[data_df[\"class\"] == 'Fake'].text))\n",
    "list_of_words_fake = [word for word in list_of_words_fake.split(\" \") if word not in nltk.corpus.stopwords.words('portuguese')]\n",
    "\n",
    "list_of_words_true = ' '.join(list(data_df[data_df[\"class\"] == 'True'].text))\n",
    "list_of_words_true = [word for word in list_of_words_true.split(\" \") if word not in nltk.corpus.stopwords.words('portuguese')]"
   ]
  },
  {
   "cell_type": "markdown",
   "metadata": {},
   "source": [
    "And than plot the data, First for fake news:"
   ]
  },
  {
   "cell_type": "markdown",
   "metadata": {},
   "source": [
    "### Fake News"
   ]
  },
  {
   "cell_type": "code",
   "execution_count": 14,
   "metadata": {},
   "outputs": [
    {
     "data": {
      "text/plain": [
       "(-0.5, 399.5, 199.5, -0.5)"
      ]
     },
     "execution_count": 14,
     "metadata": {},
     "output_type": "execute_result"
    },
    {
     "data": {
      "image/png": "[encoded data removed]",
      "text/plain": [
       "<Figure size 432x288 with 1 Axes>"
      ]
     },
     "metadata": {},
     "output_type": "display_data"
    }
   ],
   "source": [
    "fake_wordcloud = WordCloud(max_words=1000, background_color=\"white\").generate(\" \".join(list_of_words_fake))\n",
    "plt.imshow(fake_wordcloud, interpolation='bilinear')\n",
    "plt.axis(\"off\")"
   ]
  },
  {
   "cell_type": "code",
   "execution_count": 15,
   "metadata": {},
   "outputs": [
    {
     "data": {
      "text/plain": [
       "(-0.5, 399.5, 199.5, -0.5)"
      ]
     },
     "execution_count": 15,
     "metadata": {},
     "output_type": "execute_result"
    },
    {
     "data": {
      "image/png": "[encoded data removed]",
      "text/plain": [
       "<Figure size 432x288 with 1 Axes>"
      ]
     },
     "metadata": {},
     "output_type": "display_data"
    }
   ],
   "source": [
    "true_wordcloud = WordCloud(max_words=1000, background_color=\"white\").generate(\" \".join(list_of_words_true))\n",
    "plt.imshow(true_wordcloud, interpolation='bilinear')\n",
    "plt.axis(\"off\")"
   ]
  },
  {
   "cell_type": "markdown",
   "metadata": {},
   "source": [
    "## Exporting Images"
   ]
  },
  {
   "cell_type": "code",
   "execution_count": 16,
   "metadata": {},
   "outputs": [
    {
     "name": "stdout",
     "output_type": "stream",
     "text": [
      "\\begin{tabular}{lrrrrrrr}\n",
      "\\toprule\n",
      "{} &     mean &      std &    min &      25\\% &      50\\% &      75\\% &       max \\\\\n",
      "\\midrule\n",
      "file\\_index           &  1806.65 &  1038.70 &   1.00 &   909.25 &  1807.50 &  2705.75 &   3602.00 \\\\\n",
      "tokens               &  1270.41 &   789.44 &  22.00 &   739.25 &  1061.00 &  1632.75 &   8634.00 \\\\\n",
      "pausality            &     3.04 &     1.29 &   0.50 &     2.56 &     2.96 &     3.42 &     51.24 \\\\\n",
      "characters           &  5385.96 &  3337.54 &  90.00 &  3119.00 &  4510.50 &  6946.75 &  37381.00 \\\\\n",
      "average\\_sentence\\_... &    21.15 &     5.25 &   5.00 &    17.95 &    20.58 &    23.81 &    110.25 \\\\\n",
      "average\\_word\\_lenght  &     4.87 &     0.20 &   3.95 &     4.74 &     4.87 &     4.99 &      5.75 \\\\\n",
      "percentage\\_spelli... &     0.00 &     0.01 &   0.00 &     0.00 &     0.00 &     0.00 &      0.23 \\\\\n",
      "emotiveness          &     0.21 &     0.06 &   0.04 &     0.17 &     0.21 &     0.25 &      0.59 \\\\\n",
      "diversity            &     0.47 &     0.07 &   0.00 &     0.43 &     0.47 &     0.52 &      0.90 \\\\\n",
      "percent\\_types        &    41.53 &     6.02 &  14.12 &    37.55 &    41.20 &    45.10 &     86.36 \\\\\n",
      "percent\\_words\\_no\\_... &    87.33 &     2.28 &  60.82 &    86.03 &    87.41 &    88.80 &     96.80 \\\\\n",
      "percent\\_adjectives   &     4.36 &     1.43 &   0.00 &     3.37 &     4.20 &     5.26 &     11.48 \\\\\n",
      "percent\\_adverbs      &     3.78 &     1.29 &   0.00 &     2.86 &     3.68 &     4.55 &      9.92 \\\\\n",
      "percent\\_nouns        &    25.06 &     2.52 &  12.93 &    23.52 &    25.25 &    26.73 &     37.06 \\\\\n",
      "percent\\_subjuntiv... &     0.53 &     0.38 &   0.00 &     0.27 &     0.47 &     0.72 &      4.55 \\\\\n",
      "percent\\_upper\\_words  &     1.00 &     0.84 &   0.00 &     0.45 &     0.84 &     1.34 &     22.73 \\\\\n",
      "percent\\_verbs        &    13.28 &     2.29 &   1.66 &    11.81 &    13.12 &    14.65 &     22.01 \\\\\n",
      "percent\\_modal\\_verbs  &     1.85 &     0.70 &   0.00 &     1.38 &     1.78 &     2.25 &      6.45 \\\\\n",
      "percent\\_singular\\_... &     0.20 &     0.43 &   0.00 &     0.00 &     0.00 &     0.22 &      5.45 \\\\\n",
      "percent\\_plural\\_fi... &     0.06 &     0.13 &   0.00 &     0.00 &     0.00 &     0.08 &      2.25 \\\\\n",
      "percent\\_pronouns     &     4.82 &     1.98 &   0.00 &     3.44 &     4.48 &     5.90 &     17.25 \\\\\n",
      "\\bottomrule\n",
      "\\end{tabular}\n",
      "\n"
     ]
    }
   ],
   "source": [
    "print(data_df[data_df['class'] == 'True'].describe().T.round(2).to_latex(columns=['mean', 'std', 'min', '25%', '50%', '75%', 'max']))"
   ]
  },
  {
   "cell_type": "code",
   "execution_count": 17,
   "metadata": {},
   "outputs": [
    {
     "name": "stdout",
     "output_type": "stream",
     "text": [
      "\\begin{tabular}{lrrrrrrr}\n",
      "\\toprule\n",
      "{} &     mean &      std &    min &     25\\% &      50\\% &      75\\% &       max \\\\\n",
      "\\midrule\n",
      "file\\_index           &  1801.90 &  1040.06 &   1.00 &  901.75 &  1802.50 &  2702.25 &   3602.00 \\\\\n",
      "tokens               &   216.24 &   147.30 &  11.00 &  135.00 &   185.00 &   261.00 &   2625.00 \\\\\n",
      "pausality            &     2.47 &     0.91 &   0.25 &    1.89 &     2.34 &     2.90 &     12.20 \\\\\n",
      "characters           &   896.44 &   615.19 &  34.00 &  553.00 &   759.00 &  1078.25 &  10610.00 \\\\\n",
      "average\\_sentence\\_... &    15.31 &     5.44 &   2.67 &   11.56 &    15.00 &    18.33 &     78.33 \\\\\n",
      "average\\_word\\_lenght  &     4.82 &     0.29 &   3.62 &    4.64 &     4.81 &     5.00 &      5.94 \\\\\n",
      "percentage\\_spelli... &     0.00 &     0.01 &   0.00 &    0.00 &     0.00 &     0.01 &      0.38 \\\\\n",
      "emotiveness          &     0.21 &     0.08 &   0.00 &    0.15 &     0.20 &     0.25 &      0.75 \\\\\n",
      "diversity            &     0.67 &     0.11 &   0.00 &    0.63 &     0.67 &     0.72 &      1.00 \\\\\n",
      "percent\\_types        &    58.19 &     6.71 &  29.97 &   53.90 &    57.75 &    62.17 &     90.00 \\\\\n",
      "percent\\_words\\_no\\_... &    85.66 &     3.82 &  58.82 &   83.38 &    85.92 &    88.26 &     97.87 \\\\\n",
      "percent\\_adjectives   &     4.14 &     1.98 &   0.00 &    2.75 &     3.96 &     5.34 &     14.29 \\\\\n",
      "percent\\_adverbs      &     3.88 &     1.90 &   0.00 &    2.60 &     3.70 &     5.00 &     13.40 \\\\\n",
      "percent\\_nouns        &    25.12 &     3.40 &  13.40 &   22.89 &    25.16 &    27.31 &     45.45 \\\\\n",
      "percent\\_subjuntiv... &     0.64 &     0.80 &   0.00 &    0.00 &     0.48 &     0.95 &     10.20 \\\\\n",
      "percent\\_upper\\_words  &     1.75 &     1.84 &   0.00 &    0.56 &     1.35 &     2.46 &     24.72 \\\\\n",
      "percent\\_verbs        &    14.51 &     3.06 &   3.74 &   12.50 &    14.44 &    16.39 &     29.63 \\\\\n",
      "percent\\_modal\\_verbs  &     2.06 &     1.34 &   0.00 &    1.14 &     1.89 &     2.80 &     14.29 \\\\\n",
      "percent\\_singular\\_... &     0.21 &     0.57 &   0.00 &    0.00 &     0.00 &     0.00 &      7.22 \\\\\n",
      "percent\\_plural\\_fi... &     0.05 &     0.24 &   0.00 &    0.00 &     0.00 &     0.00 &      5.00 \\\\\n",
      "percent\\_pronouns     &     4.82 &     2.56 &   0.00 &    3.01 &     4.50 &     6.27 &     24.63 \\\\\n",
      "\\bottomrule\n",
      "\\end{tabular}\n",
      "\n"
     ]
    }
   ],
   "source": [
    "print(data_df[data_df['class'] == 'Fake'].describe().T.round(2).to_latex(columns=['mean', 'std', 'min', '25%', '50%', '75%', 'max']))"
   ]
  },
  {
   "cell_type": "code",
   "execution_count": 18,
   "metadata": {},
   "outputs": [],
   "source": [
    "%%capture\n",
    "\n",
    "FIGURES_PATH = Path(\"reports/figures/eda\")\n",
    "FIGURES_PATH.mkdir(exist_ok=True, parents=True)\n",
    "\n",
    "data_df['all'] = \"\"\n",
    "\n",
    "# Correlation Matrix\n",
    "CORR_MATRIX_FIGURES_PATH = FIGURES_PATH / \"corr_matrix\"\n",
    "CORR_MATRIX_FIGURES_PATH.mkdir(exist_ok=True, parents=True)\n",
    "\n",
    "fig = correlation_matrix(data_df, method='spearman', filter_variables=CONTINUOUS_VARIABLES, class_name='all')\n",
    "fig.savefig(CORR_MATRIX_FIGURES_PATH / f'corr_matrix_all_classes.jpg', bbox_inches='tight')\n",
    "fig = correlation_matrix(data_df, method='spearman', filter_variables=CONTINUOUS_VARIABLES, class_name='True')\n",
    "fig.savefig(CORR_MATRIX_FIGURES_PATH / f'corr_matrix_true.jpg', bbox_inches='tight')\n",
    "fig = correlation_matrix(data_df, method='spearman', filter_variables=CONTINUOUS_VARIABLES, class_name='Fake')\n",
    "fig.savefig(CORR_MATRIX_FIGURES_PATH / f'corr_matrix_fake.jpg', bbox_inches='tight')\n",
    "\n",
    "# Joint Plots\n",
    "JOINT_PLOTS_FIGURES_PATH = FIGURES_PATH / \"joint\"\n",
    "JOINT_PLOTS_FIGURES_PATH.mkdir(exist_ok=True, parents=True)\n",
    "\n",
    "correlation_pairs = list(get_top_abs_correlations(data_df[CONTINUOUS_VARIABLES]).index)\n",
    "for var1, var2 in correlation_pairs:\n",
    "    fig = continuous_jointplot(data_df, var1, var2)\n",
    "    fig.savefig(JOINT_PLOTS_FIGURES_PATH / f'corr_matrix_{var1}_{var2}.jpg', bbox_inches='tight')    \n",
    "\n",
    "# Wordcloud\n",
    "WORDCLOUD_PLOTS_FIGURES_PATH = FIGURES_PATH / \"wordcloud\"\n",
    "WORDCLOUD_PLOTS_FIGURES_PATH.mkdir(exist_ok=True, parents=True)\n",
    "\n",
    "fake_wordcloud.to_file(WORDCLOUD_PLOTS_FIGURES_PATH/'wordcloud_fake.png')\n",
    "true_wordcloud.to_file(WORDCLOUD_PLOTS_FIGURES_PATH/'wordcloud_true.png')\n",
    "\n",
    "# Distributions\n",
    "DISTRIBUTION_PLOTS_FIGURES_PATH = FIGURES_PATH / \"distribution\"\n",
    "DISTRIBUTION_PLOTS_FIGURES_PATH.mkdir(exist_ok=True, parents=True)\n",
    "\n",
    "for variable in CONTINUOUS_VARIABLES:\n",
    "    mean, mode, median = data_df[variable].mean(), data_df[variable].mode()[0], data_df[variable].median()\n",
    "    fig = plt.figure()\n",
    "    ax1 = sns.histplot(x=variable, hue='class', data=data_df)\n",
    "    ax1.axvline(mean, color='r', linestyle='--')\n",
    "    ax1.axvline(mode, color='g', linestyle='-')\n",
    "    ax1.axvline(median, color='y', linestyle='-')\n",
    "    ax1.legend({'Mean': mean, 'Median': median, 'Mode': mode})\n",
    "    ax1.set_title(\"Distribution Plot (skew=%.2f, kurt=%.2f)\" %(data_df[variable].skew(), data_df[variable].kurtosis()))\n",
    "    fig.savefig(DISTRIBUTION_PLOTS_FIGURES_PATH / f'distribution_{variable}.jpg', bbox_inches='tight')\n",
    "\n",
    "# Violin\n",
    "VIOLIN_PLOTS_FIGURES_PATH = FIGURES_PATH / \"violin\"\n",
    "VIOLIN_PLOTS_FIGURES_PATH.mkdir(exist_ok=True, parents=True)\n",
    "\n",
    "for variable in CONTINUOUS_VARIABLES:\n",
    "    fig = plt.figure()\n",
    "    sns.violinplot(x=variable, y=\"all\", hue='class', data=data_df, cut=True, split=True, vars=data_df.columns)\n",
    "    fig.get_axes()[0].set_ylabel(\"\")\n",
    "    fig.savefig(VIOLIN_PLOTS_FIGURES_PATH / f'violin_{variable}.jpg', bbox_inches='tight')\n",
    "\n",
    "# Box and Whisker\n",
    "BOX_PLOTS_FIGURES_PATH = FIGURES_PATH / \"box\"\n",
    "BOX_PLOTS_FIGURES_PATH.mkdir(exist_ok=True, parents=True)\n",
    "\n",
    "for variable in CONTINUOUS_VARIABLES:\n",
    "    fig = plt.figure()\n",
    "    sns.boxplot(x=variable, y='all', data=data_df, hue='class')\n",
    "    fig.get_axes()[0].set_ylabel(\"\")\n",
    "    fig.savefig(BOX_PLOTS_FIGURES_PATH / f'box_{variable}.jpg', bbox_inches='tight')\n",
    "\n",
    "# Boxen Plots\n",
    "BOXEN_PLOTS_FIGURES_PATH = FIGURES_PATH / \"boxen\"\n",
    "BOXEN_PLOTS_FIGURES_PATH.mkdir(exist_ok=True, parents=True)\n",
    "\n",
    "for variable in CONTINUOUS_VARIABLES:\n",
    "    fig = plt.figure()\n",
    "    sns.boxenplot(x=variable, y='all', data=data_df, hue='class', showfliers=True)\n",
    "    fig.get_axes()[0].set_ylabel(\"\")\n",
    "    fig.savefig(BOXEN_PLOTS_FIGURES_PATH / f'boxen_{variable}.jpg', bbox_inches='tight')\n",
    "\n",
    "# Q-Q plots\n",
    "QQ_PLOTS_FIGURES_PATH = FIGURES_PATH / \"QQ\"\n",
    "QQ_PLOTS_FIGURES_PATH.mkdir(exist_ok=True, parents=True)\n",
    "\n",
    "for variable in CONTINUOUS_VARIABLES:\n",
    "    fig, ax = plt.subplots()\n",
    "    stats.probplot(data_df[variable], dist='norm', fit=True, plot=ax)\n",
    "    fig.savefig(QQ_PLOTS_FIGURES_PATH / f'qq_{variable}.jpg', bbox_inches='tight')\n",
    "\n",
    "# Index Plots\n",
    "INDEX_PLOTS_FIGURES_PATH = FIGURES_PATH / \"index\"\n",
    "INDEX_PLOTS_FIGURES_PATH.mkdir(exist_ok=True, parents=True)\n",
    "\n",
    "for variable in CONTINUOUS_VARIABLES:\n",
    "    fig, ax = plt.subplots()\n",
    "    ax.plot(data_df[variable], \".\")   \n",
    "    fig.savefig(INDEX_PLOTS_FIGURES_PATH / f'index_{variable}.jpg', bbox_inches='tight')\n",
    "\n",
    "data_df = data_df.drop(columns=['all'])"
   ]
  },
  {
   "cell_type": "code",
   "execution_count": null,
   "metadata": {},
   "outputs": [],
   "source": []
  }
 ],
 "metadata": {
  "kernelspec": {
   "display_name": "Python 3",
   "language": "python",
   "name": "python3"
  },
  "language_info": {
   "codemirror_mode": {
    "name": "ipython",
    "version": 3
   },
   "file_extension": ".py",
   "mimetype": "text/x-python",
   "name": "python",
   "nbconvert_exporter": "python",
   "pygments_lexer": "ipython3",
   "version": "3.8.4"
  }
 },
 "nbformat": 4,
 "nbformat_minor": 4
}
